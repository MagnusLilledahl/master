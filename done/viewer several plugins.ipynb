{
 "metadata": {
  "name": "",
  "signature": "sha256:296a1513ccdbbccfec746888c6946319cbed3ea4dce732652be63a4722aa49dc"
 },
 "nbformat": 3,
 "nbformat_minor": 0,
 "worksheets": [
  {
   "cells": [
    {
     "cell_type": "code",
     "collapsed": false,
     "input": [
      "from skimage.viewer.plugins.base import Plugin\n",
      "from skimage.viewer.viewers import ImageViewer\n",
      "from skimage.viewer.widgets.core import Slider, CheckBox"
     ],
     "language": "python",
     "metadata": {},
     "outputs": [],
     "prompt_number": 11
    },
    {
     "cell_type": "markdown",
     "metadata": {},
     "source": [
      "## mean"
     ]
    },
    {
     "cell_type": "code",
     "collapsed": false,
     "input": [
      "from skimage.filters import rank\n",
      "from skimage.morphology import square\n",
      "\n",
      "def mean_filter(image, enable=False, size=10):\n",
      "    if not enable:\n",
      "        return image\n",
      "    selem = square(size)\n",
      "    return rank.mean(image, selem)"
     ],
     "language": "python",
     "metadata": {},
     "outputs": [],
     "prompt_number": 12
    },
    {
     "cell_type": "code",
     "collapsed": false,
     "input": [
      "mean = Plugin(image_filter=mean_filter)\n",
      "mean.name = 'Mean'\n",
      "mean += CheckBox('enable')\n",
      "mean += Slider('size', low=1, high=100)"
     ],
     "language": "python",
     "metadata": {},
     "outputs": [],
     "prompt_number": 13
    },
    {
     "cell_type": "markdown",
     "metadata": {},
     "source": [
      "## otsu"
     ]
    },
    {
     "cell_type": "code",
     "collapsed": false,
     "input": [
      "from skimage.filters import threshold_otsu\n",
      "\n",
      "def otsu_filter(image, enable=False):\n",
      "    if not enable:\n",
      "        return image\n",
      "    t = threshold_otsu(image)\n",
      "    return image >= t"
     ],
     "language": "python",
     "metadata": {},
     "outputs": [],
     "prompt_number": 14
    },
    {
     "cell_type": "code",
     "collapsed": false,
     "input": [
      "otsu = Plugin(image_filter=otsu_filter)\n",
      "otsu.name = 'Otsu'\n",
      "otsu += CheckBox('enable')"
     ],
     "language": "python",
     "metadata": {},
     "outputs": [],
     "prompt_number": 15
    },
    {
     "cell_type": "markdown",
     "metadata": {},
     "source": [
      "## canny edge"
     ]
    },
    {
     "cell_type": "code",
     "collapsed": false,
     "input": [
      "from skimage.viewer.plugins.canny import CannyPlugin\n",
      "canny = CannyPlugin()"
     ],
     "language": "python",
     "metadata": {},
     "outputs": [],
     "prompt_number": 16
    },
    {
     "cell_type": "markdown",
     "metadata": {},
     "source": [
      "## link plugins"
     ]
    },
    {
     "cell_type": "code",
     "collapsed": false,
     "input": [
      "def link(plugin1, plugin2):\n",
      "    plugin1.image_changed.connect(plugin2._update_original_image)\n",
      "\n",
      "# public functions (if update_image is implemented, see PR #1382)\n",
      "#def link(plugin1, plugin2):\n",
      "#    plugin1.image_changed.connect(plugin2.image_viewer.update_image)"
     ],
     "language": "python",
     "metadata": {},
     "outputs": [],
     "prompt_number": 17
    },
    {
     "cell_type": "code",
     "collapsed": false,
     "input": [
      "from skimage import data\n",
      "img = data.coins()"
     ],
     "language": "python",
     "metadata": {},
     "outputs": [],
     "prompt_number": 18
    },
    {
     "cell_type": "code",
     "collapsed": false,
     "input": [
      "viewer = ImageViewer(img)\n",
      "viewer += mean\n",
      "viewer += otsu\n",
      "viewer += canny"
     ],
     "language": "python",
     "metadata": {},
     "outputs": [],
     "prompt_number": 19
    },
    {
     "cell_type": "code",
     "collapsed": false,
     "input": [
      "link(mean, otsu)\n",
      "link(otsu, canny)"
     ],
     "language": "python",
     "metadata": {},
     "outputs": [],
     "prompt_number": 20
    },
    {
     "cell_type": "code",
     "collapsed": false,
     "input": [
      "viewer.show();"
     ],
     "language": "python",
     "metadata": {},
     "outputs": [],
     "prompt_number": 21
    }
   ],
   "metadata": {}
  }
 ]
}