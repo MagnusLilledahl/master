{
 "metadata": {
  "name": "",
  "signature": "sha256:370f212b4127312e5ea2769b08718d9461563a8506d2b6547cd5922baaeb85ed"
 },
 "nbformat": 3,
 "nbformat_minor": 0,
 "worksheets": [
  {
   "cells": [
    {
     "cell_type": "code",
     "collapsed": false,
     "input": [
      "import json\n",
      "\n",
      "j = \"\"\"[{\"pk\": 657, \"model\": \"courses.registration\", \"fields\": {\"course\": 18, \"granted\": false, \"role\": 1, \"user\": 547, \"code_master\": true}}, {\"pk\": 515, \"model\": \"courses.registration\", \"fields\": {\"course\": 18, \"granted\": false, \"role\": 1, \"user\": 159, \"code_master\": true}}, {\"pk\": 358, \"model\": \"courses.registration\", \"fields\": {\"course\": 18, \"granted\": false, \"role\": 1, \"user\": 351, \"code_master\": true}}]\"\"\"\n",
      "o = json.loads(j)\n",
      "for i,obj in enumerate(o):\n",
      "    fields = obj['fields']\n",
      "    if i == 0:\n",
      "        keys = '\\t'.join(fields.keys())\n",
      "        print(keys)\n",
      "    values = '\\t'.join(str(v) for v in fields.values())\n",
      "    print(values)"
     ],
     "language": "python",
     "metadata": {},
     "outputs": [
      {
       "output_type": "stream",
       "stream": "stdout",
       "text": [
        "course\tuser\trole\tgranted\tcode_master\n",
        "18\t547\t1\tFalse\tTrue\n",
        "18\t159\t1\tFalse\tTrue\n",
        "18\t351\t1\tFalse\tTrue\n"
       ]
      }
     ],
     "prompt_number": 17
    }
   ],
   "metadata": {}
  }
 ]
}