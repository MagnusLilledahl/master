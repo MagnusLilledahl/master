{
 "metadata": {
  "name": "",
  "signature": "sha256:9697235482fd57bacdbecd09f4780e8f8001ca60e1fbdcacac8be0fd4baeaed8"
 },
 "nbformat": 3,
 "nbformat_minor": 0,
 "worksheets": [
  {
   "cells": [
    {
     "cell_type": "code",
     "collapsed": false,
     "input": [
      "import xml.etree.ElementTree as ET"
     ],
     "language": "python",
     "metadata": {},
     "outputs": [],
     "prompt_number": 65
    },
    {
     "cell_type": "code",
     "collapsed": false,
     "input": [
      "filename = 'CAM/AdditionalData/BaseTemplate.xml'\n",
      "tree = ET.parse(filename)"
     ],
     "language": "python",
     "metadata": {},
     "outputs": [],
     "prompt_number": 66
    },
    {
     "cell_type": "code",
     "collapsed": false,
     "input": [
      "tree.getroot()"
     ],
     "language": "python",
     "metadata": {},
     "outputs": [
      {
       "metadata": {},
       "output_type": "pyout",
       "prompt_number": 67,
       "text": [
        "<Element 'MatrixScreenerTemplate' at 0x109e02728>"
       ]
      }
     ],
     "prompt_number": 67
    },
    {
     "cell_type": "code",
     "collapsed": false,
     "input": [
      "properties_xpath = './ScanningTemplate/Properties/'"
     ],
     "language": "python",
     "metadata": {},
     "outputs": [],
     "prompt_number": 68
    },
    {
     "cell_type": "code",
     "collapsed": false,
     "input": [
      "properties = tree.find(properties_xpath[:-1])"
     ],
     "language": "python",
     "metadata": {},
     "outputs": [],
     "prompt_number": 69
    },
    {
     "cell_type": "code",
     "collapsed": false,
     "input": [
      "properties.attrib"
     ],
     "language": "python",
     "metadata": {},
     "outputs": [
      {
       "metadata": {},
       "output_type": "pyout",
       "prompt_number": 70,
       "text": [
        "{'UniqueJobCounter': '1',\n",
        " 'TotalCountOfWells': '3',\n",
        " 'TotalAssignedJobs': '27',\n",
        " 'Version': 'Version: 1.0.4.563 -- Build 08.08.2013',\n",
        " 'TotalCountOfFields': '27'}"
       ]
      }
     ],
     "prompt_number": 70
    },
    {
     "cell_type": "code",
     "collapsed": false,
     "input": [
      "from matrixscreener.template import ScanningTemplate\n",
      "filename = 'CAM/AdditionalData/{ScanningTemplate}test_CAM.xml'\n",
      "st = ScanningTemplate(filename)\n",
      "st['props'].attrib"
     ],
     "language": "python",
     "metadata": {},
     "outputs": [
      {
       "metadata": {},
       "output_type": "pyout",
       "prompt_number": 71,
       "text": [
        "{'UniqueJobCounter': '1',\n",
        " 'TotalCountOfWells': '3',\n",
        " 'TotalAssignedJobs': '27',\n",
        " 'Version': 'Version: 1.0.4.563 -- Build 08.08.2013',\n",
        " 'TotalCountOfFields': '27'}"
       ]
      }
     ],
     "prompt_number": 71
    },
    {
     "cell_type": "code",
     "collapsed": false,
     "input": [
      "field_array_xpath = './ScanFieldArray/ScanFieldData'\n",
      "tree.findall(field_array_xpath + \"[@FieldX='1'][@FieldY='1'][@WellX='1'][@WellY='1']\")[0].attrib"
     ],
     "language": "python",
     "metadata": {},
     "outputs": [
      {
       "metadata": {},
       "output_type": "pyout",
       "prompt_number": 72,
       "text": [
        "{'WellY': '1',\n",
        " 'SlideNo': '0',\n",
        " 'Indicator': 'IsStandardScanField',\n",
        " 'IsAutofocusScanField': 'false',\n",
        " 'IsTrackingField': 'false',\n",
        " 'Enabled': 'true',\n",
        " 'Description': 'MatrixScreener',\n",
        " 'JobId': '8',\n",
        " 'Shape': 'IsRectangle',\n",
        " 'PumpTime': '1000',\n",
        " 'AFScore': '0',\n",
        " 'WellX': '1',\n",
        " 'AFSliceCount': '10',\n",
        " 'DriftSliceCount': '5',\n",
        " 'JobName': 'Job 2',\n",
        " 'AFJobId': '0',\n",
        " 'LabelY': '1',\n",
        " 'IsMosaicCalibrationField': 'false',\n",
        " 'State': 'IsActive',\n",
        " 'AFScanRange': '4.9999999999999996E-06',\n",
        " 'IsDriftCompensationField': 'false',\n",
        " 'IsIndividualAutofocusScanField': 'false',\n",
        " 'FieldX': '1',\n",
        " 'LabelX': 'A',\n",
        " 'IsPumpScanField': 'false',\n",
        " 'PumpDelay': '1000',\n",
        " 'JobAssigned': 'true',\n",
        " 'Selected': 'false',\n",
        " 'FieldY': '1',\n",
        " 'DriftScanRange': '4.9999999999999996E-06'}"
       ]
      }
     ],
     "prompt_number": 72
    },
    {
     "cell_type": "code",
     "collapsed": false,
     "input": [
      "st.field().attrib"
     ],
     "language": "python",
     "metadata": {},
     "outputs": [
      {
       "metadata": {},
       "output_type": "pyout",
       "prompt_number": 73,
       "text": [
        "{'WellY': '1',\n",
        " 'SlideNo': '0',\n",
        " 'Indicator': 'IsStandardScanField',\n",
        " 'IsAutofocusScanField': 'false',\n",
        " 'IsTrackingField': 'false',\n",
        " 'Enabled': 'true',\n",
        " 'Description': 'MatrixScreener',\n",
        " 'JobId': '8',\n",
        " 'Shape': 'IsRectangle',\n",
        " 'PumpTime': '1000',\n",
        " 'AFScore': '0',\n",
        " 'WellX': '1',\n",
        " 'AFSliceCount': '10',\n",
        " 'DriftSliceCount': '5',\n",
        " 'JobName': 'Job 2',\n",
        " 'AFJobId': '0',\n",
        " 'LabelY': '1',\n",
        " 'IsMosaicCalibrationField': 'false',\n",
        " 'State': 'IsActive',\n",
        " 'AFScanRange': '4.9999999999999996E-06',\n",
        " 'IsDriftCompensationField': 'false',\n",
        " 'IsIndividualAutofocusScanField': 'false',\n",
        " 'FieldX': '1',\n",
        " 'LabelX': 'A',\n",
        " 'IsPumpScanField': 'false',\n",
        " 'PumpDelay': '1000',\n",
        " 'JobAssigned': 'true',\n",
        " 'Selected': 'false',\n",
        " 'FieldY': '1',\n",
        " 'DriftScanRange': '4.9999999999999996E-06'}"
       ]
      }
     ],
     "prompt_number": 73
    },
    {
     "cell_type": "code",
     "collapsed": false,
     "input": [
      "field = tree.find(field_array_xpath)\n",
      "field, field_array_xpath"
     ],
     "language": "python",
     "metadata": {},
     "outputs": [
      {
       "metadata": {},
       "output_type": "pyout",
       "prompt_number": 74,
       "text": [
        "(<Element 'ScanFieldData' at 0x109e070e8>, './ScanFieldArray/ScanFieldData')"
       ]
      }
     ],
     "prompt_number": 74
    },
    {
     "cell_type": "code",
     "collapsed": false,
     "input": [
      "tree.remove(field)"
     ],
     "language": "python",
     "metadata": {},
     "outputs": [
      {
       "ename": "AttributeError",
       "evalue": "'ElementTree' object has no attribute 'remove'",
       "output_type": "pyerr",
       "traceback": [
        "\u001b[0;31m---------------------------------------------------------------------------\u001b[0m\n\u001b[0;31mAttributeError\u001b[0m                            Traceback (most recent call last)",
        "\u001b[0;32m<ipython-input-75-bbd9399ab71b>\u001b[0m in \u001b[0;36m<module>\u001b[0;34m()\u001b[0m\n\u001b[0;32m----> 1\u001b[0;31m \u001b[0mtree\u001b[0m\u001b[0;34m.\u001b[0m\u001b[0mremove\u001b[0m\u001b[0;34m(\u001b[0m\u001b[0mfield\u001b[0m\u001b[0;34m)\u001b[0m\u001b[0;34m\u001b[0m\u001b[0m\n\u001b[0m",
        "\u001b[0;31mAttributeError\u001b[0m: 'ElementTree' object has no attribute 'remove'"
       ]
      }
     ],
     "prompt_number": 75
    },
    {
     "cell_type": "code",
     "collapsed": false,
     "input": [
      "tree.getroot().remove(field)"
     ],
     "language": "python",
     "metadata": {},
     "outputs": [
      {
       "ename": "ValueError",
       "evalue": "list.remove(x): x not in list",
       "output_type": "pyerr",
       "traceback": [
        "\u001b[0;31m---------------------------------------------------------------------------\u001b[0m\n\u001b[0;31mValueError\u001b[0m                                Traceback (most recent call last)",
        "\u001b[0;32m<ipython-input-76-652c6ec4f995>\u001b[0m in \u001b[0;36m<module>\u001b[0;34m()\u001b[0m\n\u001b[0;32m----> 1\u001b[0;31m \u001b[0mtree\u001b[0m\u001b[0;34m.\u001b[0m\u001b[0mgetroot\u001b[0m\u001b[0;34m(\u001b[0m\u001b[0;34m)\u001b[0m\u001b[0;34m.\u001b[0m\u001b[0mremove\u001b[0m\u001b[0;34m(\u001b[0m\u001b[0mfield\u001b[0m\u001b[0;34m)\u001b[0m\u001b[0;34m\u001b[0m\u001b[0m\n\u001b[0m",
        "\u001b[0;31mValueError\u001b[0m: list.remove(x): x not in list"
       ]
      }
     ],
     "prompt_number": 76
    },
    {
     "cell_type": "code",
     "collapsed": false,
     "input": [
      "field_array = tree.find('./ScanFieldArray')"
     ],
     "language": "python",
     "metadata": {},
     "outputs": [],
     "prompt_number": 77
    },
    {
     "cell_type": "code",
     "collapsed": false,
     "input": [
      "field_array.remove(field)"
     ],
     "language": "python",
     "metadata": {},
     "outputs": [],
     "prompt_number": 78
    },
    {
     "cell_type": "code",
     "collapsed": false,
     "input": [
      "tree.write('out.xml')"
     ],
     "language": "python",
     "metadata": {},
     "outputs": [],
     "prompt_number": 79
    },
    {
     "cell_type": "code",
     "collapsed": false,
     "input": [
      "from copy import deepcopy\n",
      "field2 = deepcopy(field)"
     ],
     "language": "python",
     "metadata": {},
     "outputs": [],
     "prompt_number": 80
    },
    {
     "cell_type": "code",
     "collapsed": false,
     "input": [
      "field, field2"
     ],
     "language": "python",
     "metadata": {},
     "outputs": [
      {
       "metadata": {},
       "output_type": "pyout",
       "prompt_number": 93,
       "text": [
        "(<Element 'ScanFieldData' at 0x109e070e8>,\n",
        " <Element 'ScanFieldData' at 0x109de49f8>)"
       ]
      }
     ],
     "prompt_number": 93
    },
    {
     "cell_type": "code",
     "collapsed": false,
     "input": [
      "field2.attrib['AFJobId'] = str(5)"
     ],
     "language": "python",
     "metadata": {},
     "outputs": [],
     "prompt_number": 82
    },
    {
     "cell_type": "code",
     "collapsed": false,
     "input": [
      "field_array.append(field)\n",
      "field_array.append(field2)\n",
      "tree.write('out.xml')"
     ],
     "language": "python",
     "metadata": {},
     "outputs": [],
     "prompt_number": 98
    },
    {
     "cell_type": "code",
     "collapsed": false,
     "input": [
      "tree.findall('./ScanFieldArray/ScanFieldData')"
     ],
     "language": "python",
     "metadata": {},
     "outputs": [
      {
       "metadata": {},
       "output_type": "pyout",
       "prompt_number": 85,
       "text": [
        "[<Element 'ScanFieldData' at 0x109e070e8>,\n",
        " <Element 'ScanFieldData' at 0x109de49f8>]"
       ]
      }
     ],
     "prompt_number": 85
    },
    {
     "cell_type": "code",
     "collapsed": false,
     "input": [
      "[field_array.remove(x) for x in _85]"
     ],
     "language": "python",
     "metadata": {},
     "outputs": [
      {
       "metadata": {},
       "output_type": "pyout",
       "prompt_number": 99,
       "text": [
        "[None, None]"
       ]
      }
     ],
     "prompt_number": 99
    },
    {
     "cell_type": "code",
     "collapsed": false,
     "input": [
      "tree.findall('./ScanFieldArray/ScanFieldData')"
     ],
     "language": "python",
     "metadata": {},
     "outputs": [
      {
       "metadata": {},
       "output_type": "pyout",
       "prompt_number": 100,
       "text": [
        "[]"
       ]
      }
     ],
     "prompt_number": 100
    }
   ],
   "metadata": {}
  }
 ]
}