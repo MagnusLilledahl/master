{
 "metadata": {
  "name": "",
  "signature": "sha256:639ccb7bff842e9ea7ce989e1c86f82eec60b010866db516648d6a5992082f69"
 },
 "nbformat": 3,
 "nbformat_minor": 0,
 "worksheets": [
  {
   "cells": [
    {
     "cell_type": "code",
     "collapsed": false,
     "input": [
      "def show(pil_img):\n",
      "    from numpy import array\n",
      "    imshow(array(pil_img), cmap='gray')"
     ],
     "language": "python",
     "metadata": {},
     "outputs": []
    },
    {
     "cell_type": "code",
     "collapsed": false,
     "input": [
      "from PIL import Image\n",
      "i = Image.open(img)\n",
      "i = i.rotate(270)\n",
      "show(i)"
     ],
     "language": "python",
     "metadata": {},
     "outputs": []
    },
    {
     "cell_type": "markdown",
     "metadata": {},
     "source": [
      "Rotate all experiments"
     ]
    },
    {
     "cell_type": "code",
     "collapsed": false,
     "input": [
      "for exp in experiments:\n",
      "    for img in exp.images:\n",
      "        i = Image.open(img)\n",
      "        i = i.rotate(270)\n",
      "        i.save(img)"
     ],
     "language": "python",
     "metadata": {},
     "outputs": []
    },
    {
     "cell_type": "code",
     "collapsed": false,
     "input": [
      "!ls /Users/arve/Dokumenter/git/master/data/rotation/experiment--2015_01_23_11_11_22/slide--S00/chamber--U00--V00/"
     ],
     "language": "python",
     "metadata": {},
     "outputs": [
      {
       "output_type": "stream",
       "stream": "stdout",
       "text": [
        "TileConfiguration.registered.txt \u001b[34mfield--X01--Y00\u001b[m\u001b[m                  \u001b[34mfield--X02--Y02\u001b[m\u001b[m                  \u001b[34mfield--X03--Y04\u001b[m\u001b[m\r\n",
        "TileConfiguration.txt            \u001b[34mfield--X01--Y01\u001b[m\u001b[m                  \u001b[34mfield--X02--Y03\u001b[m\u001b[m                  \u001b[34mfield--X04--Y00\u001b[m\u001b[m\r\n",
        "\u001b[34mfield--X00--Y00\u001b[m\u001b[m                  \u001b[34mfield--X01--Y02\u001b[m\u001b[m                  \u001b[34mfield--X02--Y04\u001b[m\u001b[m                  \u001b[34mfield--X04--Y01\u001b[m\u001b[m\r\n",
        "\u001b[34mfield--X00--Y01\u001b[m\u001b[m                  \u001b[34mfield--X01--Y03\u001b[m\u001b[m                  \u001b[34mfield--X03--Y00\u001b[m\u001b[m                  \u001b[34mfield--X04--Y02\u001b[m\u001b[m\r\n",
        "\u001b[34mfield--X00--Y02\u001b[m\u001b[m                  \u001b[34mfield--X01--Y04\u001b[m\u001b[m                  \u001b[34mfield--X03--Y01\u001b[m\u001b[m                  \u001b[34mfield--X04--Y03\u001b[m\u001b[m\r\n",
        "\u001b[34mfield--X00--Y03\u001b[m\u001b[m                  \u001b[34mfield--X02--Y00\u001b[m\u001b[m                  \u001b[34mfield--X03--Y02\u001b[m\u001b[m                  \u001b[34mfield--X04--Y04\u001b[m\u001b[m\r\n",
        "\u001b[34mfield--X00--Y04\u001b[m\u001b[m                  \u001b[34mfield--X02--Y01\u001b[m\u001b[m                  \u001b[34mfield--X03--Y03\u001b[m\u001b[m\r\n"
       ]
      }
     ],
     "prompt_number": 3
    }
   ],
   "metadata": {}
  }
 ]
}