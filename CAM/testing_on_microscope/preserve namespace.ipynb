{
 "metadata": {
  "name": "",
  "signature": "sha256:90b62c71b3d4e68fa6e9696effb5b2b539d1419db73bfb7232eaa85207142838"
 },
 "nbformat": 3,
 "nbformat_minor": 0,
 "worksheets": [
  {
   "cells": [
    {
     "cell_type": "code",
     "collapsed": false,
     "input": [
      "%%writefile in.xml\n",
      "<?xml version=\"1.0\" ?>\n",
      "<MatrixScreenerTemplate xmlns:xsd=\"http://www.w3.org/2001/XMLSchema\" xmlns:xsi=\"http://www.w3.org/2001/XMLSchema-instance\">\n",
      "\t<ScanningTemplate>text</ScanningTemplate>\n",
      "</MatrixScreenerTemplate>"
     ],
     "language": "python",
     "metadata": {},
     "outputs": [
      {
       "output_type": "stream",
       "stream": "stdout",
       "text": [
        "Overwriting in.xml\n"
       ]
      }
     ],
     "prompt_number": 7
    },
    {
     "cell_type": "code",
     "collapsed": false,
     "input": [
      "import xml.etree.ElementTree as ET\n",
      "\n",
      "ET.register_namespace('xsd', 'http://www.w3.org/2001/XMLSchema')\n",
      "ET.register_namespace('xsi', 'http://www.w3.org/2001/XMLSchema-instance')\n",
      "\n",
      "tree = ET.parse('in.xml')\n",
      "root = tree.getroot()"
     ],
     "language": "python",
     "metadata": {},
     "outputs": [],
     "prompt_number": 7
    },
    {
     "cell_type": "code",
     "collapsed": false,
     "input": [
      "root[0]"
     ],
     "language": "python",
     "metadata": {},
     "outputs": [
      {
       "metadata": {},
       "output_type": "pyout",
       "prompt_number": 9,
       "text": [
        "<Element 'ScanningTemplate' at 0x0000000004AD50E8>"
       ]
      }
     ],
     "prompt_number": 9
    },
    {
     "cell_type": "code",
     "collapsed": false,
     "input": [
      "tree.write('out.xml',  method = 'xml', xml_declaration = True)"
     ],
     "language": "python",
     "metadata": {},
     "outputs": [],
     "prompt_number": 10
    },
    {
     "cell_type": "code",
     "collapsed": false,
     "input": [
      "%load out.xml"
     ],
     "language": "python",
     "metadata": {},
     "outputs": [],
     "prompt_number": 11
    },
    {
     "cell_type": "code",
     "collapsed": false,
     "input": [
      "<?xml version='1.0' encoding='us-ascii'?>\n",
      "<MatrixScreenerTemplate>\n",
      "\t<ScanningTemplate>text</ScanningTemplate>\n",
      "</MatrixScreenerTemplate>"
     ],
     "language": "python",
     "metadata": {},
     "outputs": []
    },
    {
     "cell_type": "code",
     "collapsed": false,
     "input": [
      "def add_namespace(filename):\n",
      "    \"hack hack\"\n",
      "    with open(filename) as f:\n",
      "        lines = f.readlines()\n",
      "        for line in lines:\n",
      "            if line == '<MatrixScreenerTemplate>':\n",
      "                line "
     ],
     "language": "python",
     "metadata": {},
     "outputs": []
    }
   ],
   "metadata": {}
  }
 ]
}