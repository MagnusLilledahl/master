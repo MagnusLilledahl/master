{
 "metadata": {
  "name": "",
  "signature": "sha256:2b25dce560196effa6714e505c501aa81f8d5d68ce988e1b9fe27c71fb95a46f"
 },
 "nbformat": 3,
 "nbformat_minor": 0,
 "worksheets": [
  {
   "cells": [
    {
     "cell_type": "markdown",
     "metadata": {},
     "source": [
      "Preserve the namespace and check if that has anything to say."
     ]
    },
    {
     "cell_type": "code",
     "collapsed": false,
     "input": [
      "%%writefile in.xml\n",
      "<?xml version=\"1.0\" ?>\n",
      "<MatrixScreenerTemplate xmlns:xsd=\"http://www.w3.org/2001/XMLSchema\" xmlns:xsi=\"http://www.w3.org/2001/XMLSchema-instance\">\n",
      "\t<ScanningTemplate>text</ScanningTemplate>\n",
      "</MatrixScreenerTemplate>"
     ],
     "language": "python",
     "metadata": {},
     "outputs": [
      {
       "output_type": "stream",
       "stream": "stdout",
       "text": [
        "Overwriting in.xml\n"
       ]
      }
     ],
     "prompt_number": 1
    },
    {
     "cell_type": "code",
     "collapsed": false,
     "input": [
      "import xml.etree.ElementTree as ET\n",
      "\n",
      "ET.register_namespace('xsd', 'http://www.w3.org/2001/XMLSchema')\n",
      "ET.register_namespace('xsi', 'http://www.w3.org/2001/XMLSchema-instance')\n",
      "\n",
      "tree = ET.parse('in.xml')\n",
      "root = tree.getroot()"
     ],
     "language": "python",
     "metadata": {},
     "outputs": [],
     "prompt_number": 2
    },
    {
     "cell_type": "code",
     "collapsed": false,
     "input": [
      "root[0]"
     ],
     "language": "python",
     "metadata": {},
     "outputs": [
      {
       "metadata": {},
       "output_type": "pyout",
       "prompt_number": 3,
       "text": [
        "<Element 'ScanningTemplate' at 0x10e65d818>"
       ]
      }
     ],
     "prompt_number": 3
    },
    {
     "cell_type": "code",
     "collapsed": false,
     "input": [
      "tree.write('out.xml',  method = 'xml', xml_declaration = True)"
     ],
     "language": "python",
     "metadata": {},
     "outputs": [],
     "prompt_number": 4
    },
    {
     "cell_type": "code",
     "collapsed": false,
     "input": [
      "%load out.xml"
     ],
     "language": "python",
     "metadata": {},
     "outputs": [],
     "prompt_number": 5
    },
    {
     "cell_type": "code",
     "collapsed": false,
     "input": [
      "<?xml version='1.0' encoding='us-ascii'?>\n",
      "<MatrixScreenerTemplate>\n",
      "\t<ScanningTemplate>text</ScanningTemplate>\n",
      "</MatrixScreenerTemplate>"
     ],
     "language": "python",
     "metadata": {},
     "outputs": []
    },
    {
     "cell_type": "code",
     "collapsed": false,
     "input": [
      "def add_namespace(filename):\n",
      "    \"hack hack\"\n",
      "    with open(filename, mode='r+') as f:\n",
      "        lines = f.readlines()\n",
      "        with_namespace = []\n",
      "        for line in lines:\n",
      "            # omit newline from comparison\n",
      "            if line[0:24] == '<MatrixScreenerTemplate>':\n",
      "                line = '<MatrixScreenerTemplate xmlns:xsd=\"http://www.w3.org/2001/XMLSchema\" xmlns:xsi=\"http://www.w3.org/2001/XMLSchema-instance\">\\n'\n",
      "            with_namespace.append(line)\n",
      "        f.seek(0) # write from beginning\n",
      "        f.writelines(with_namespace)"
     ],
     "language": "python",
     "metadata": {},
     "outputs": [],
     "prompt_number": 7
    },
    {
     "cell_type": "code",
     "collapsed": false,
     "input": [
      "add_namespace(\"out.xml\")"
     ],
     "language": "python",
     "metadata": {},
     "outputs": [],
     "prompt_number": 8
    },
    {
     "cell_type": "code",
     "collapsed": false,
     "input": [
      "%load out.xml"
     ],
     "language": "python",
     "metadata": {},
     "outputs": [],
     "prompt_number": 9
    },
    {
     "cell_type": "code",
     "collapsed": false,
     "input": [
      "<?xml version='1.0' encoding='us-ascii'?>\n",
      "<MatrixScreenerTemplate xmlns:xsd=\"http://www.w3.org/2001/XMLSchema\" xmlns:xsi=\"http://www.w3.org/2001/XMLSchema-instance\">\n",
      "\t<ScanningTemplate>text</ScanningTemplate>\n",
      "</MatrixScreenerTemplate>"
     ],
     "language": "python",
     "metadata": {},
     "outputs": []
    }
   ],
   "metadata": {}
  }
 ]
}