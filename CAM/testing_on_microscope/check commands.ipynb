{
 "metadata": {
  "name": "",
  "signature": "sha256:2e4d8b713c32827b744d72f47bd1491d72228a144814d522e21345c093c33824"
 },
 "nbformat": 3,
 "nbformat_minor": 0,
 "worksheets": [
  {
   "cells": [
    {
     "cell_type": "markdown",
     "metadata": {},
     "source": [
      "Check commands if they are working"
     ]
    },
    {
     "cell_type": "markdown",
     "metadata": {},
     "source": [
      "# enabling and disabling of fields"
     ]
    },
    {
     "cell_type": "code",
     "collapsed": false,
     "input": [
      "import matrixscreener\n",
      "\n",
      "cam = matrixscreener.cam.CAM()"
     ],
     "language": "python",
     "metadata": {},
     "outputs": [],
     "prompt_number": 1
    },
    {
     "cell_type": "code",
     "collapsed": false,
     "input": [
      "cam.enable_all()"
     ],
     "language": "python",
     "metadata": {},
     "outputs": [],
     "prompt_number": 30
    },
    {
     "cell_type": "markdown",
     "metadata": {},
     "source": [
      "**works**"
     ]
    },
    {
     "cell_type": "code",
     "collapsed": false,
     "input": [
      "cam.receive()"
     ],
     "language": "python",
     "metadata": {},
     "outputs": [
      {
       "metadata": {},
       "output_type": "pyout",
       "prompt_number": 25,
       "text": [
        "[OrderedDict([('cli', 'python-matrixscreener'), ('app', 'matrix'), ('cmd', 'enableall'), ('value', 'true')])]"
       ]
      }
     ],
     "prompt_number": 25
    },
    {
     "cell_type": "markdown",
     "metadata": {},
     "source": [
      "Here we see that 50ms delay is too low."
     ]
    },
    {
     "cell_type": "code",
     "collapsed": false,
     "input": [
      "cam.disable_all()"
     ],
     "language": "python",
     "metadata": {},
     "outputs": [],
     "prompt_number": 27
    },
    {
     "cell_type": "markdown",
     "metadata": {},
     "source": [
      "**works**"
     ]
    },
    {
     "cell_type": "code",
     "collapsed": false,
     "input": [
      "cam.receive()"
     ],
     "language": "python",
     "metadata": {},
     "outputs": [
      {
       "metadata": {},
       "output_type": "pyout",
       "prompt_number": 28,
       "text": [
        "[OrderedDict([('cli', 'python-matrixscreener'), ('app', 'matrix'), ('cmd', 'enableall'), ('value', 'false')])]"
       ]
      }
     ],
     "prompt_number": 28
    },
    {
     "cell_type": "code",
     "collapsed": false,
     "input": [
      "cam.enable(slide=1)"
     ],
     "language": "python",
     "metadata": {},
     "outputs": [
      {
       "metadata": {},
       "output_type": "pyout",
       "prompt_number": 29,
       "text": [
        "[OrderedDict([('cli', 'python-matrixscreener'), ('app', 'matrix'), ('slide', '1'), ('wellx', '1'), ('welly', '1'), ('fieldx', '1'), ('fieldy', '1'), ('value', 'true')])]"
       ]
      }
     ],
     "prompt_number": 29
    },
    {
     "cell_type": "markdown",
     "metadata": {},
     "source": [
      "**doesn't work** - LAS AF still have all fields disabled"
     ]
    },
    {
     "cell_type": "code",
     "collapsed": false,
     "input": [
      "cam.enable_all()\n",
      "cam.enable(slide=1, value='false')"
     ],
     "language": "python",
     "metadata": {},
     "outputs": [
      {
       "metadata": {},
       "output_type": "pyout",
       "prompt_number": 35,
       "text": [
        "[OrderedDict([('cli', 'python-matrixscreener'), ('app', 'matrix'), ('slide', '1'), ('wellx', '1'), ('welly', '1'), ('fieldx', '1'), ('fieldy', '1'), ('value', 'false')])]"
       ]
      }
     ],
     "prompt_number": 35
    },
    {
     "cell_type": "markdown",
     "metadata": {},
     "source": [
      "**disable doesn't work either**"
     ]
    },
    {
     "cell_type": "markdown",
     "metadata": {},
     "source": [
      "# get_information"
     ]
    },
    {
     "cell_type": "code",
     "collapsed": false,
     "input": [
      "cam.get_information(about='experiment')"
     ],
     "language": "python",
     "metadata": {},
     "outputs": [
      {
       "metadata": {},
       "output_type": "pyout",
       "prompt_number": 36,
       "text": [
        "OrderedDict([('app', 'matrix'), ('sys', '0'), ('dev', 'experiment'), ('info_for', 'python-matrixscreener'), ('name', '{ScanningTemplate}test CAM.xml'), ('slides', '0'), ('wellsx', '3'), ('wellsy', '1'), ('fieldsx', '3'), ('fieldsy', '3'), ('loops', '1'), ('reptime', '15'), ('fielddx', '450'), ('fielddy', '450'), ('welldx', '1740'), ('welldy', '1740')])"
       ]
      }
     ],
     "prompt_number": 36
    },
    {
     "cell_type": "code",
     "collapsed": false,
     "input": [
      "cam.get_information(about='stage')"
     ],
     "language": "python",
     "metadata": {},
     "outputs": [
      {
       "metadata": {},
       "output_type": "pyout",
       "prompt_number": 37,
       "text": [
        "OrderedDict([('app', 'matrix'), ('sys', '0'), ('dev', 'stage'), ('info_for', 'python-matrixscreener'), ('unit', 'meter'), ('xpos', '0.0432609984'), ('ypos', '0.0334090014'), ('zpos', '0')])"
       ]
      }
     ],
     "prompt_number": 37
    },
    {
     "cell_type": "code",
     "collapsed": false,
     "input": [
      "cam.get_information(about='zdrive')"
     ],
     "language": "python",
     "metadata": {},
     "outputs": [
      {
       "metadata": {},
       "output_type": "pyout",
       "prompt_number": 38,
       "text": [
        "OrderedDict([('app', 'matrix'), ('sys', '0'), ('dev', 'zdrive'), ('info_for', 'python-matrixscreener'), ('unit', 'meter'), ('zpos', '0')])"
       ]
      }
     ],
     "prompt_number": 38
    },
    {
     "cell_type": "code",
     "collapsed": false,
     "input": [
      "cam.get_information(about='corring')"
     ],
     "language": "python",
     "metadata": {},
     "outputs": [
      {
       "metadata": {},
       "output_type": "pyout",
       "prompt_number": 39,
       "text": [
        "OrderedDict([('app', 'matrix'), ('sys', '0'), ('dev', 'corring'), ('info_for', 'python-matrixscreener'), ('angle', '8.29'), ('angleMin', '0'), ('angleMax', '103.98')])"
       ]
      }
     ],
     "prompt_number": 39
    },
    {
     "cell_type": "code",
     "collapsed": false,
     "input": [
      "cam.get_information(about='joblist')"
     ],
     "language": "python",
     "metadata": {},
     "outputs": [
      {
       "ename": "TypeError",
       "evalue": "'NoneType' object is not subscriptable",
       "output_type": "pyerr",
       "traceback": [
        "\u001b[1;31m---------------------------------------------------------------------------\u001b[0m\n\u001b[1;31mTypeError\u001b[0m                                 Traceback (most recent call last)",
        "\u001b[1;32m<ipython-input-40-d01f31a91508>\u001b[0m in \u001b[0;36m<module>\u001b[1;34m()\u001b[0m\n\u001b[1;32m----> 1\u001b[1;33m \u001b[0mcam\u001b[0m\u001b[1;33m.\u001b[0m\u001b[0mget_information\u001b[0m\u001b[1;33m(\u001b[0m\u001b[0mabout\u001b[0m\u001b[1;33m=\u001b[0m\u001b[1;34m'joblist'\u001b[0m\u001b[1;33m)\u001b[0m\u001b[1;33m\u001b[0m\u001b[0m\n\u001b[0m",
        "\u001b[1;32mc:\\Miniconda3\\lib\\site-packages\\matrixscreener-0.3.0-py3.4.egg\\matrixscreener\\cam.py\u001b[0m in \u001b[0;36mget_information\u001b[1;34m(self, about)\u001b[0m\n\u001b[0;32m    229\u001b[0m         ]\n\u001b[0;32m    230\u001b[0m         \u001b[0mresponse\u001b[0m \u001b[1;33m=\u001b[0m \u001b[0mself\u001b[0m\u001b[1;33m.\u001b[0m\u001b[0msend\u001b[0m\u001b[1;33m(\u001b[0m\u001b[0mcmd\u001b[0m\u001b[1;33m)\u001b[0m\u001b[1;33m\u001b[0m\u001b[0m\n\u001b[1;32m--> 231\u001b[1;33m         \u001b[1;32mreturn\u001b[0m \u001b[0mresponse\u001b[0m\u001b[1;33m[\u001b[0m\u001b[1;36m0\u001b[0m\u001b[1;33m]\u001b[0m \u001b[1;31m# assume we want first response\u001b[0m\u001b[1;33m\u001b[0m\u001b[0m\n\u001b[0m",
        "\u001b[1;31mTypeError\u001b[0m: 'NoneType' object is not subscriptable"
       ]
      }
     ],
     "prompt_number": 40
    },
    {
     "cell_type": "code",
     "collapsed": false,
     "input": [
      "cam.receive()"
     ],
     "language": "python",
     "metadata": {},
     "outputs": [
      {
       "metadata": {},
       "output_type": "pyout",
       "prompt_number": 41,
       "text": [
        "[OrderedDict([('cli', 'python-matrixscreener'), ('app', 'matrix'), ('cmd', 'getinfo'), ('dev', 'joblist')])]"
       ]
      }
     ],
     "prompt_number": 41
    },
    {
     "cell_type": "markdown",
     "metadata": {},
     "source": [
      "**from log**\n",
      "\n",
      "```\n",
      " !CAM Exception Detected!\n",
      " -----------------------------------------------------------------------------------------------\n",
      " 12:07:34 PM\t : Original Command: /cli:python-matrixscreener /app:matrix /cmd:getinfo /dev:joblist\n",
      " 12:07:34 PM\t : Client send this: \n",
      " 12:07:34 PM\t : Detected Exception: Need your help: Currently I can not read the job list! Please start the matrix screen one time and try it again to read the current job list!\n",
      "```"
     ]
    },
    {
     "cell_type": "code",
     "collapsed": false,
     "input": [
      "cam.get_information(about='patternlist')"
     ],
     "language": "python",
     "metadata": {},
     "outputs": [
      {
       "ename": "TypeError",
       "evalue": "'NoneType' object is not subscriptable",
       "output_type": "pyerr",
       "traceback": [
        "\u001b[1;31m---------------------------------------------------------------------------\u001b[0m\n\u001b[1;31mTypeError\u001b[0m                                 Traceback (most recent call last)",
        "\u001b[1;32m<ipython-input-42-9a37891648c9>\u001b[0m in \u001b[0;36m<module>\u001b[1;34m()\u001b[0m\n\u001b[1;32m----> 1\u001b[1;33m \u001b[0mcam\u001b[0m\u001b[1;33m.\u001b[0m\u001b[0mget_information\u001b[0m\u001b[1;33m(\u001b[0m\u001b[0mabout\u001b[0m\u001b[1;33m=\u001b[0m\u001b[1;34m'patternlist'\u001b[0m\u001b[1;33m)\u001b[0m\u001b[1;33m\u001b[0m\u001b[0m\n\u001b[0m",
        "\u001b[1;32mc:\\Miniconda3\\lib\\site-packages\\matrixscreener-0.3.0-py3.4.egg\\matrixscreener\\cam.py\u001b[0m in \u001b[0;36mget_information\u001b[1;34m(self, about)\u001b[0m\n\u001b[0;32m    229\u001b[0m         ]\n\u001b[0;32m    230\u001b[0m         \u001b[0mresponse\u001b[0m \u001b[1;33m=\u001b[0m \u001b[0mself\u001b[0m\u001b[1;33m.\u001b[0m\u001b[0msend\u001b[0m\u001b[1;33m(\u001b[0m\u001b[0mcmd\u001b[0m\u001b[1;33m)\u001b[0m\u001b[1;33m\u001b[0m\u001b[0m\n\u001b[1;32m--> 231\u001b[1;33m         \u001b[1;32mreturn\u001b[0m \u001b[0mresponse\u001b[0m\u001b[1;33m[\u001b[0m\u001b[1;36m0\u001b[0m\u001b[1;33m]\u001b[0m \u001b[1;31m# assume we want first response\u001b[0m\u001b[1;33m\u001b[0m\u001b[0m\n\u001b[0m",
        "\u001b[1;31mTypeError\u001b[0m: 'NoneType' object is not subscriptable"
       ]
      }
     ],
     "prompt_number": 42
    },
    {
     "cell_type": "markdown",
     "metadata": {},
     "source": [
      "\n",
      "**from log**\n",
      "\n",
      "```\n",
      " -----------------------------------------------------------------------------------------------\n",
      " 12:09:28 PM\t : Original Command: /cli:python-matrixscreener /app:matrix /cmd:getinfo /dev:patternlist\n",
      " 12:09:28 PM\t : Client send this: \n",
      " 12:09:28 PM\t : Detected Exception: Need your help: Currently I can not read the job list! Please start the matrix screen one time and try it again to read the current job list!\n",
      "```"
     ]
    },
    {
     "cell_type": "code",
     "collapsed": false,
     "input": [
      "cam.get_information(about='scanstatus')"
     ],
     "language": "python",
     "metadata": {},
     "outputs": [
      {
       "metadata": {},
       "output_type": "pyout",
       "prompt_number": 43,
       "text": [
        "OrderedDict([('app', 'matrix'), ('sys', '0'), ('dev', 'scanstatus'), ('info_for', 'python-matrixscreener'), ('val', 'eScanIdle'), ('camlevel', '0')])"
       ]
      }
     ],
     "prompt_number": 43
    },
    {
     "cell_type": "markdown",
     "metadata": {},
     "source": [
      "** other syntax for information about these, accourding to doc **\n",
      "- `dev` -> `scmd`\n",
      "- build the command manually"
     ]
    },
    {
     "cell_type": "code",
     "collapsed": false,
     "input": [
      "cmd = [\n",
      "    ('cmd', 'getinfo'),\n",
      "    ('scmd', 'position')\n",
      "]\n",
      "cam.send(cmd)"
     ],
     "language": "python",
     "metadata": {},
     "outputs": [
      {
       "metadata": {},
       "output_type": "pyout",
       "prompt_number": 49,
       "text": [
        "[OrderedDict([('cli', 'python-matrixscreener'), ('app', 'matrix'), ('cmd', 'getinfo'), ('scmd', 'position')])]"
       ]
      }
     ],
     "prompt_number": 49
    },
    {
     "cell_type": "code",
     "collapsed": false,
     "input": [
      "cmd = [\n",
      "    ('cmd', 'getinfo'),\n",
      "    ('scmd', 'loadposition')\n",
      "]\n",
      "cam.send(cmd)"
     ],
     "language": "python",
     "metadata": {},
     "outputs": [
      {
       "metadata": {},
       "output_type": "pyout",
       "prompt_number": 57,
       "text": [
        "[OrderedDict([('cli', 'python-matrixscreener'), ('app', 'matrix'), ('cmd', 'getinfo'), ('scmd', 'loadposition')])]"
       ]
      }
     ],
     "prompt_number": 57
    },
    {
     "cell_type": "code",
     "collapsed": false,
     "input": [
      "cmd = [\n",
      "    ('cmd', 'getinfo'),\n",
      "    ('scmd', 'afzusemode')\n",
      "]\n",
      "cam.send(cmd)"
     ],
     "language": "python",
     "metadata": {},
     "outputs": [
      {
       "metadata": {},
       "output_type": "pyout",
       "prompt_number": 60,
       "text": [
        "[OrderedDict([('cli', 'python-matrixscreener'), ('app', 'matrix'), ('cmd', 'getinfo'), ('scmd', 'afzusemode')])]"
       ]
      }
     ],
     "prompt_number": 60
    },
    {
     "cell_type": "code",
     "collapsed": false,
     "input": [
      "cmd = [\n",
      "    ('cmd', 'getinfo'),\n",
      "    ('scmd', 'afzposition')\n",
      "]\n",
      "cam.send(cmd)"
     ],
     "language": "python",
     "metadata": {},
     "outputs": [
      {
       "metadata": {},
       "output_type": "pyout",
       "prompt_number": 62,
       "text": [
        "[OrderedDict([('cli', 'python-matrixscreener'), ('app', 'matrix'), ('cmd', 'getinfo'), ('scmd', 'afzposition')])]"
       ]
      }
     ],
     "prompt_number": 62
    },
    {
     "cell_type": "markdown",
     "metadata": {},
     "source": [
      "**scmd information does not work** - no information, no errors"
     ]
    }
   ],
   "metadata": {}
  }
 ]
}