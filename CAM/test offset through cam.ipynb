{
 "metadata": {
  "name": "",
  "signature": "sha256:2d130f282680a518eb088c25f69425c4802de3688adb1f611ae30a96e6724b78"
 },
 "nbformat": 3,
 "nbformat_minor": 0,
 "worksheets": [
  {
   "cells": [
    {
     "cell_type": "code",
     "collapsed": false,
     "input": [
      "import matrixscreener"
     ],
     "language": "python",
     "metadata": {},
     "outputs": []
    },
    {
     "cell_type": "code",
     "collapsed": false,
     "input": [
      "cam = matrixscreener.cam.CAM()\n",
      "cam.connect()"
     ],
     "language": "python",
     "metadata": {},
     "outputs": []
    },
    {
     "cell_type": "code",
     "collapsed": false,
     "input": [
      "cam.get_information(about='experiment')"
     ],
     "language": "python",
     "metadata": {},
     "outputs": []
    },
    {
     "cell_type": "code",
     "collapsed": false,
     "input": [
      "def offset_well(xml_root, u, v, offset_x=0, offset_y=0, offset_z=0):\n",
      "    \"Offset a given well in a etree xml.\"\n",
      "    \n",
      "    # every ScanFieldData with attr WellX and WellY set to u,v\n",
      "    # https://docs.python.org/3/library/xml.etree.elementtree.html#supported-xpath-syntax\n",
      "    fields = xml_root.findall('.//ScanFieldData[@WellX=\"{}\"][@WellY=\"{}\"]'.format(u,v))\n",
      "    # set field values\n",
      "    for field in fields:\n",
      "        X = field.find('FieldXCoordinate')\n",
      "        Y = field.find('FieldYCoordinate')\n",
      "        Z = field.find('FieldZCoordinate')\n",
      "\n",
      "        x = float(X.text) + offset_x\n",
      "        y = float(Y.text) + offset_y\n",
      "        z = float(Z.text) + offset_z\n",
      "\n",
      "        X.text = \"%.19f\" % x\n",
      "        Y.text = \"%.19f\" % y\n",
      "        Z.text = \"%.19f\" % z\n",
      "\n",
      "    # set well start value\n",
      "    well = xml_root.find('.//ScanWellData[@WellX=\"{}\"][@WellY=\"{}\"]'.format(u,v))\n",
      "    \n",
      "    x_start = float(well.attrib['FieldXStartCoordinate']) + offset_x\n",
      "    y_start = float(well.attrib['FieldYStartCoordinate']) + offset_y\n",
      "    z_start = float(well.attrib['FieldZCoordinate']) + offset_z\n",
      "    \n",
      "    well.attrib['FieldXStartCoordinate'] = \"%.19f\" % x_start\n",
      "    well.attrib['FieldYStartCoordinate'] = \"%.19f\" % y_start\n",
      "    well.attrib['FieldZCoordinate'] = \"%.19f\" % z_start\n",
      "\n",
      "    return xml_root"
     ],
     "language": "python",
     "metadata": {},
     "outputs": []
    },
    {
     "cell_type": "code",
     "collapsed": false,
     "input": [
      "import xml.etree.ElementTree as ET"
     ],
     "language": "python",
     "metadata": {},
     "outputs": []
    },
    {
     "cell_type": "code",
     "collapsed": false,
     "input": [
      "template = 'c:\\...'\n",
      "\n",
      "tree = ET.parse(template)\n",
      "root = tree.getroot()"
     ],
     "language": "python",
     "metadata": {},
     "outputs": []
    },
    {
     "cell_type": "code",
     "collapsed": false,
     "input": [
      "offset_well(root, 1, 1, offset_x=1e-3) # +1mm"
     ],
     "language": "python",
     "metadata": {},
     "outputs": []
    },
    {
     "cell_type": "code",
     "collapsed": false,
     "input": [
      "root.write(template)"
     ],
     "language": "python",
     "metadata": {},
     "outputs": []
    },
    {
     "cell_type": "code",
     "collapsed": false,
     "input": [
      "from os import path\n",
      "filename = path.basename(template)"
     ],
     "language": "python",
     "metadata": {},
     "outputs": []
    },
    {
     "cell_type": "code",
     "collapsed": false,
     "input": [
      "cam.load_template(filename=filename)"
     ],
     "language": "python",
     "metadata": {},
     "outputs": []
    }
   ],
   "metadata": {}
  }
 ]
}