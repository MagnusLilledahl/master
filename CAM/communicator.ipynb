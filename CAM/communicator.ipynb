{
 "metadata": {
  "name": "",
  "signature": "sha256:022ad9d71d16736795365049d481fceb7e163b6d289cd971bd2cb45f539a01df"
 },
 "nbformat": 3,
 "nbformat_minor": 0,
 "worksheets": [
  {
   "cells": [
    {
     "cell_type": "markdown",
     "metadata": {},
     "source": [
      "# Communicate with LASAF over TCP/IP socket"
     ]
    },
    {
     "cell_type": "markdown",
     "metadata": {},
     "source": [
      "Interactively worked out a driver. See [matrixscreener.cam](https://github.com/arve0/matrixscreener/blob/master/matrixscreener/cam.py) for updated version."
     ]
    },
    {
     "cell_type": "code",
     "collapsed": false,
     "input": [
      "from time import sleep\n",
      "from bunch import Bunch\n",
      "from collections import OrderedDict\n",
      "\n",
      "\n",
      "def commands_as_bytes(cmds):\n",
      "    \"\"\"\n",
      "    Format commands dictionary to /key:val.\n",
      "    \n",
      "    Parameters\n",
      "    ----------\n",
      "    cmds : dict\n",
      "        List of commands as tuples.\n",
      "        Example: [('cmd', 'val'), ('cmd2', 'val2')]\n",
      "    \n",
      "    Returns\n",
      "    -------\n",
      "    bytes\n",
      "        Sequence of /key:val.\n",
      "    \"\"\"\n",
      "    cmds = OrderedDict(cmds) # override equal keys\n",
      "    tmp = []\n",
      "    for key,val in cmds.items():\n",
      "        key = str(key)\n",
      "        val = str(val)\n",
      "        tmp.append('/' + key + ':' + val)\n",
      "    return ' '.join(tmp).encode()\n",
      "\n",
      "\n",
      "def parse_command_message(msg):\n",
      "    \"\"\"\n",
      "    Return command message as OrderedDict based on format '/key:val'.\n",
      "    \n",
      "    Parameters\n",
      "    ----------\n",
      "    command : bytes\n",
      "        Sequence of /key:val\n",
      "    \n",
      "    Returns\n",
      "    -------\n",
      "    collections.OrderedDict\n",
      "        With /key:val => dict[key] = val.\n",
      "    \"\"\"\n",
      "    # decode bytes, assume '/' in start\n",
      "    cmd_strings = msg.decode()[1:].split(r' /')\n",
      "    cmds = OrderedDict()\n",
      "    for cmd in cmd_strings:\n",
      "        key, val = cmd.split(':')\n",
      "        cmds[key] = val\n",
      "    return cmds\n",
      "\n",
      "\n",
      "class CAM:\n",
      "    \"Driver for LASAF Computer Assisted Microscopy.\"\n",
      "    def __init__(self, host='127.0.0.1', port=8895):\n",
      "        self.host = host\n",
      "        self.port = port\n",
      "        # prefix for all commands\n",
      "        self.prefix = [('cli', 'python-matrixscreener'),\n",
      "                       ('app', 'matrix')]\n",
      "        self.buffer_size = 1024\n",
      "        self.delay = 50e-3 # wait 50ms after sending commands\n",
      "        self.connected = False\n",
      "        self.socket = None\n",
      "    \n",
      "    def connect(self):\n",
      "        \"Connects to LASAF through a CAM-socket.\"\n",
      "        import socket\n",
      "        self.socket = socket.socket\n",
      "        self.socket.connect((self.host, self.port))\n",
      "        sleep(self.delay) # wait for response\n",
      "        self.last_msg = self.socket.recv(self.buffer_size) # receive welcome message\n",
      "        self.connected = True\n",
      "\n",
      "    def send(self, commands):\n",
      "        \"\"\"\n",
      "        Send commands to LASAF through CAM-socket.\n",
      "        \n",
      "        Paramenters\n",
      "        -----------\n",
      "        commands : list of tuples\n",
      "            Commands as a list of tuples. matrixscreener.CMD_PREFIX is\n",
      "            prepended to commands.\n",
      "            Example: [('cmd', 'enableall'), ('value', 'true')]\n",
      "        \n",
      "        Returns\n",
      "        -------\n",
      "        bytes\n",
      "            Response message from LASAF.\n",
      "        \"\"\"\n",
      "        self.socket.send(commands_as_bytes(self.prefix + commands))\n",
      "        sleep(self.delay)\n",
      "        return self.socket.recv(self.buffer_size)\n",
      "\n",
      "    # convinience functions for commands\n",
      "    def start_scan(self):\n",
      "        \"Starts the matrix scan.\"\n",
      "        cmd = [('cmd', 'startscan')]\n",
      "        return self.send(cmd)\n",
      "\n",
      "    def stop_scan(self):\n",
      "        \"Stops the matrix scan.\"\n",
      "        cmd = [('cmd', 'stopscan')]\n",
      "        return self.send(cmd)\n",
      "\n",
      "    def pause_scan(self):\n",
      "        \"Pauses the matrix scan.\"\n",
      "        cmd = [('cmd', 'pausescan')]\n",
      "        return self.send(cmd)\n",
      "\n",
      "    def enable(self, slide=0, wellx=1, welly=1,\n",
      "               fieldx=1, fieldy=1, value='true'):\n",
      "        \"Enable a given scan field.\"\n",
      "        cmd = [\n",
      "            ('slide', str(slide)),\n",
      "            ('wellx', str(wellx)),\n",
      "            ('welly', str(welly)),\n",
      "            ('fieldx', str(fieldx)),\n",
      "            ('fieldy', str(fieldy)),\n",
      "            ('value', str(value))\n",
      "        ]\n",
      "        return self.send(cmd)\n",
      "\n",
      "    def disable(self, **kwargs):\n",
      "        \"Shorthand for CAM.enable(value='false').\"\n",
      "        return self.enable(value='false', **kwargs)\n",
      "\n",
      "    def enable_all(self):\n",
      "        \"Enable all scan fields.\"\n",
      "        cmd = [('cmd', 'enableall'), ('value', 'true')]\n",
      "        return self.send(cmd)\n",
      "\n",
      "    def disable_all(self):\n",
      "        \"Disable all scan fields.\"\n",
      "        cmd = [('cmd', 'enableall'), ('value', 'false')]\n",
      "        return self.send(cmd)\n",
      "\n",
      "    def save_template(self, filename=\"{ScanningTemplate}matrixscreener.xml\"):\n",
      "        \"Save scanning template to filename.\"\n",
      "        cmd = [\n",
      "            ('sys', '1'),\n",
      "            ('cmd', 'save'),\n",
      "            ('fil', str(filename))\n",
      "        ]\n",
      "        return self.send(cmd)\n",
      "\n",
      "    def load_template(self, filename=\"{ScanningTemplate}matrixscreener.xml\"):\n",
      "        \"\"\"\n",
      "        Load scanning template from filename. Template needs to exist\n",
      "        in database, otherwise it will not load.\n",
      "        \"\"\"\n",
      "        cmd = [\n",
      "            ('sys', '1'),\n",
      "            ('cmd', 'load'),\n",
      "            ('fil', str(filename))\n",
      "        ]\n",
      "        return self.send(cmd)\n",
      "\n",
      "    def get_information(self, about='stage'):\n",
      "        \"Get information about given keyword. Defaults to stage.\"\n",
      "        cmd = [\n",
      "            ('cmd', 'getinfo'),\n",
      "            ('dev', str(about))\n",
      "        ]\n",
      "        return self.send(cmd)\n"
     ],
     "language": "python",
     "metadata": {},
     "outputs": [],
     "prompt_number": 1
    },
    {
     "cell_type": "markdown",
     "metadata": {},
     "source": [
      "# TEST\n",
      "\n",
      "- prefix added\n",
      "- types: integer, float, string\n",
      "- response length\n",
      "- key overrided if defined several times"
     ]
    },
    {
     "cell_type": "code",
     "collapsed": false,
     "input": [
      "# mock echoing socket\n",
      "cam = CAM()\n",
      "cam.socket = Bunch()\n",
      "\n",
      "def _send(msg):\n",
      "    cam.socket.msg = msg\n",
      "    return msg\n",
      "\n",
      "cam.socket.send = _send\n",
      "cam.socket.recv = lambda x: cam.socket.msg"
     ],
     "language": "python",
     "metadata": {},
     "outputs": [],
     "prompt_number": 2
    },
    {
     "cell_type": "code",
     "collapsed": false,
     "input": [
      "# as we are sending in string format and returning as OrderedDict,\n",
      "# convert all key/val to strings and return OrderedDict such that\n",
      "# we can make a comparison\n",
      "def key_val_as_strings(_list):\n",
      "    \"Return OrderedDict with key and val as strings.\"\n",
      "    tmp = OrderedDict()\n",
      "    for key,val in _list:\n",
      "        key = str(key)\n",
      "        val = str(val)\n",
      "        tmp[key] = val\n",
      "    return tmp\n",
      "\n",
      "# test dict_as_bytes and parse_command_message\n",
      "cmd = [('cli', 'python'), ('integer', 1234), ('float', 1.234)]\n",
      "#parse_command_message(cam.send(cmd)), key_val_as_strings(cam.prefix + cmd)\n",
      "parse_command_message(cam.send(cmd)) == key_val_as_strings(cam.prefix + cmd)"
     ],
     "language": "python",
     "metadata": {},
     "outputs": [
      {
       "metadata": {},
       "output_type": "pyout",
       "prompt_number": 3,
       "text": [
        "True"
       ]
      }
     ],
     "prompt_number": 3
    },
    {
     "cell_type": "code",
     "collapsed": false,
     "input": [
      "parse_command_message(b'/cli:python matrix screener /cmd:stop')"
     ],
     "language": "python",
     "metadata": {},
     "outputs": [
      {
       "metadata": {},
       "output_type": "pyout",
       "prompt_number": 14,
       "text": [
        "OrderedDict([('cli', 'python matrix screener'), ('cmd', 'stop')])"
       ]
      }
     ],
     "prompt_number": 14
    },
    {
     "cell_type": "markdown",
     "metadata": {},
     "source": [
      "# Dummy socket test"
     ]
    },
    {
     "cell_type": "code",
     "collapsed": false,
     "input": [
      "import socket\n",
      "server = socket.socket()\n",
      "client = socket.socket()"
     ],
     "language": "python",
     "metadata": {},
     "outputs": [],
     "prompt_number": 1
    },
    {
     "cell_type": "code",
     "collapsed": false,
     "input": [
      "server.bind(('127.0.0.1', 9898))\n",
      "server.listen(5)"
     ],
     "language": "python",
     "metadata": {},
     "outputs": [],
     "prompt_number": 2
    },
    {
     "cell_type": "code",
     "collapsed": false,
     "input": [
      "client.connect(('127.0.0.1', 9898))"
     ],
     "language": "python",
     "metadata": {},
     "outputs": [],
     "prompt_number": 3
    },
    {
     "cell_type": "code",
     "collapsed": false,
     "input": [
      "incoming = server.accept()"
     ],
     "language": "python",
     "metadata": {},
     "outputs": [],
     "prompt_number": 6
    },
    {
     "cell_type": "code",
     "collapsed": false,
     "input": [
      "client.send(commands_as_bytes(cmd))"
     ],
     "language": "python",
     "metadata": {},
     "outputs": [
      {
       "metadata": {},
       "output_type": "pyout",
       "prompt_number": 10,
       "text": [
        "38"
       ]
      }
     ],
     "prompt_number": 10
    },
    {
     "cell_type": "code",
     "collapsed": false,
     "input": [
      "incoming[0].recv(1024)"
     ],
     "language": "python",
     "metadata": {},
     "outputs": [
      {
       "metadata": {},
       "output_type": "pyout",
       "prompt_number": 11,
       "text": [
        "b'/cli:python /integer:1234 /float:1.234'"
       ]
      }
     ],
     "prompt_number": 11
    },
    {
     "cell_type": "code",
     "collapsed": false,
     "input": [
      "del client\n",
      "del server"
     ],
     "language": "python",
     "metadata": {},
     "outputs": [],
     "prompt_number": 19
    }
   ],
   "metadata": {}
  }
 ]
}