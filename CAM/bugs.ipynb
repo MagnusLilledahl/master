{
 "metadata": {
  "name": "",
  "signature": "sha256:ca75322951142a22e402820b990c028c570fdb8721bbdfbe2473c9ae434d887a"
 },
 "nbformat": 3,
 "nbformat_minor": 0,
 "worksheets": [
  {
   "cells": [
    {
     "cell_type": "markdown",
     "metadata": {},
     "source": [
      "To run this notebook you need need [mini-conda](http://conda.pydata.org/miniconda.html), pip, ipython notebook and matrixscreener:\n",
      "    \n",
      "```\n",
      "conda install pip\n",
      "conda install ipython-notebook\n",
      "pip install matrixscreener\n",
      "```\n",
      "\n",
      "Then you can run this notebook with debugging:\n",
      "```\n",
      "DEBUG=matrixscreener ipython notebook\n",
      "```"
     ]
    },
    {
     "cell_type": "markdown",
     "metadata": {},
     "source": [
      "# Issues with Leica LAS X CAM\n",
      "\n",
      "1. The documentation explicit state that the full filename should be given upon load-command (page 44 of `M4--Documentation--CAM--Y014--18.11.pdf`), but this is wrong (same in old version, so this bug has existed some time). The command should omit \".xml\", and it then works. This is easily verified by sending the load-command with full filename, where the error-response states it could not find \"filename.xml.xml\". I guess this is an blunder, since the save command should give the full filename (\"filename.xml\" will save to \"filename.xml\", \"filename\" will save to \"filename\").\n",
      "\n",
      "2. There seems to be some cache issues with the load/save-commands. To reproduce the bug: Load a scanning template in the GUI, change some settings in GUI, send save-command through socket with same filename as the one loaded, the file is reported to be saved but contents and modification time does not change. A workaround is saving to another filename, then to the original filename, which overwrites the file, but does not update the XML with changes in GUI (can be verified by loading the template - the changes are gone). Does the LASAF load/save-code explicit sync to filesystem?\n",
      "\n",
      "3. The GUI sometimes totaly hangs (doesn't even render, see attached image). To reproduce this, have the socket open while doing a matrix scan. I guess this is because there is some socket-code in LASAF that is blocking, preventing the call stack to continue. It can be verified by closing the socket, the GUI will then render and become responsive again."
     ]
    },
    {
     "cell_type": "markdown",
     "metadata": {},
     "source": [
      "## Initialize and variables"
     ]
    },
    {
     "cell_type": "code",
     "collapsed": false,
     "input": [
      "from matrixscreener.cam import CAM\n",
      "cam = CAM() # defaults to localhost:8895\n",
      "tmpl_path = b''"
     ],
     "language": "python",
     "metadata": {},
     "outputs": []
    },
    {
     "cell_type": "markdown",
     "metadata": {},
     "source": [
      "XML for experiment in use can be downloaded here: https://folk.ntnu.no/seljebu/master/leica_las_bugs/"
     ]
    },
    {
     "cell_type": "markdown",
     "metadata": {},
     "source": [
      "## Demo of issue 1"
     ]
    },
    {
     "cell_type": "code",
     "collapsed": false,
     "input": [
      "# the file we are trying to load\n",
      "!dir path/to/template"
     ],
     "language": "python",
     "metadata": {},
     "outputs": []
    },
    {
     "cell_type": "code",
     "collapsed": false,
     "input": [
      "cam.load(filename='{ScanningTemplate}rotation.xml')\n",
      "# nothing happens in GUI - get error message in return"
     ],
     "language": "python",
     "metadata": {},
     "outputs": []
    },
    {
     "cell_type": "code",
     "collapsed": false,
     "input": [
      "cam.load(filename='{ScanningTemplate}rotation')\n",
      "# GUI loads template - get echo in return"
     ],
     "language": "python",
     "metadata": {},
     "outputs": []
    },
    {
     "cell_type": "code",
     "collapsed": false,
     "input": [
      "cam.save(filename='{ScanningTemplate}test.xml')\n",
      "!dir path/to/templates\n",
      "# saved to {ScanningTemplate}.test.xml"
     ],
     "language": "python",
     "metadata": {},
     "outputs": []
    },
    {
     "cell_type": "markdown",
     "metadata": {},
     "source": [
      "## Demo of issue 2"
     ]
    },
    {
     "cell_type": "markdown",
     "metadata": {},
     "source": [
      "We've already saved rotation experiment to `{ScanningTemplate}.test.xml`.\n",
      "\n",
      "In GUI:\n",
      "- offset well 2\n",
      "\n",
      "In notebook\n",
      "- run code block below"
     ]
    },
    {
     "cell_type": "code",
     "collapsed": false,
     "input": [
      "!dir ...\n",
      "# save to same name as before\n",
      "cam.save(filename='{ScanningTemplate}test.xml')\n",
      "# time not changed -> ergo not actually saved\n",
      "!dir ...\n",
      "# save to another name\n",
      "cam.save(filename='{ScanningTemplate}rotation.xml')\n",
      "# now the file actually is saved"
     ],
     "language": "python",
     "metadata": {},
     "outputs": []
    },
    {
     "cell_type": "markdown",
     "metadata": {},
     "source": [
      "Now load the saved file with the code block below."
     ]
    },
    {
     "cell_type": "code",
     "collapsed": false,
     "input": [
      "cam.load(filename='{ScanningTemplate}rotation')\n",
      "# GUI updates"
     ],
     "language": "python",
     "metadata": {},
     "outputs": []
    },
    {
     "cell_type": "markdown",
     "metadata": {},
     "source": [
      "Go to well 2 and check position: offset is not saved."
     ]
    },
    {
     "cell_type": "markdown",
     "metadata": {},
     "source": [
      "## Demo of issue 3"
     ]
    },
    {
     "cell_type": "code",
     "collapsed": false,
     "input": [
      "# start a matrix scan\n",
      "cam.start_scan()\n",
      "# wait for interface to lock\n",
      "# close socket -> GUI is responsive and matrix scan continues\n",
      "cam.socket.close()"
     ],
     "language": "python",
     "metadata": {},
     "outputs": []
    },
    {
     "cell_type": "markdown",
     "metadata": {},
     "source": [
      "Video of this: "
     ]
    }
   ],
   "metadata": {}
  }
 ]
}