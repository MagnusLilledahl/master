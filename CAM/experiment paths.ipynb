{
 "metadata": {
  "name": "",
  "signature": "sha256:add2375910b0561e219552a409444170af83b3f6c2542853133b9f7ab2e1a8fe"
 },
 "nbformat": 3,
 "nbformat_minor": 0,
 "worksheets": [
  {
   "cells": [
    {
     "cell_type": "markdown",
     "metadata": {},
     "source": [
      "# Inheritance"
     ]
    },
    {
     "cell_type": "code",
     "collapsed": false,
     "input": [
      "class Path:\n",
      "    def __init__(self, path):\n",
      "        import os.path\n",
      "        self.path = os.path.abspath(path)\n",
      "        self.dirname = os.path.dirname(path)\n",
      "        self.basename = os.path.basename(path)\n",
      "\n",
      "class Experiment(Path):\n",
      "    def __init__(self, path):\n",
      "        super(Experiment, self).__init__(path)\n",
      "        print(self.path)\n",
      "        print(self.dirname)\n",
      "        print(self.basename)"
     ],
     "language": "python",
     "metadata": {},
     "outputs": [],
     "prompt_number": 22
    },
    {
     "cell_type": "code",
     "collapsed": false,
     "input": [
      "path = !pwd\n",
      "path = path[0]\n",
      "Experiment(path)"
     ],
     "language": "python",
     "metadata": {},
     "outputs": [
      {
       "output_type": "stream",
       "stream": "stdout",
       "text": [
        "/Users/arve/Dokumenter/git/master/CAM\n",
        "/Users/arve/Dokumenter/git/master\n",
        "CAM\n"
       ]
      },
      {
       "metadata": {},
       "output_type": "pyout",
       "prompt_number": 24,
       "text": [
        "<__main__.Experiment at 0x10cdb6cf8>"
       ]
      }
     ],
     "prompt_number": 24
    },
    {
     "cell_type": "markdown",
     "metadata": {},
     "source": [
      "# vs Composition"
     ]
    },
    {
     "cell_type": "code",
     "collapsed": false,
     "input": [
      "def self_path(self, path):\n",
      "    \"Set self.path, self.dirname and self.basename.\"\n",
      "    import os.path\n",
      "    self.path = os.path.abspath(path)\n",
      "    self.dirname = os.path.dirname(path)\n",
      "    self.basename = os.path.basename(path)\n",
      "\n",
      "class Experiment:\n",
      "    def __init__(self, path):\n",
      "        self_path(self, path)\n",
      "        print(self.path)\n",
      "        print(self.dirname)\n",
      "        print(self.basename)"
     ],
     "language": "python",
     "metadata": {},
     "outputs": [],
     "prompt_number": 29
    },
    {
     "cell_type": "code",
     "collapsed": false,
     "input": [
      "Experiment(path)"
     ],
     "language": "python",
     "metadata": {},
     "outputs": [
      {
       "output_type": "stream",
       "stream": "stdout",
       "text": [
        "/Users/arve/Dokumenter/git/master/CAM\n",
        "/Users/arve/Dokumenter/git/master\n",
        "CAM\n"
       ]
      },
      {
       "metadata": {},
       "output_type": "pyout",
       "prompt_number": 28,
       "text": [
        "<__main__.Experiment at 0x10c827d68>"
       ]
      }
     ],
     "prompt_number": 28
    },
    {
     "cell_type": "markdown",
     "metadata": {},
     "source": [
      "# greedy matching\n",
      "to match latest part of path"
     ]
    },
    {
     "cell_type": "code",
     "collapsed": false,
     "input": [
      "path = (\"/folder--U00--V00--X00--Y00\" + # we do not want to match this\n",
      "        \"/experiment--2014_11_12_13_08_03\" +\n",
      "        \"/slide--S00\" +\n",
      "        \"/chamber--U01--V01\" +\n",
      "        \"/field--X01--Y01\" +\n",
      "        \"/image--L00--S00--U01--V01--J08--E00--O00--X01--Y01--T00--Z00--C00.ome.tif\")"
     ],
     "language": "python",
     "metadata": {},
     "outputs": [],
     "prompt_number": 195
    },
    {
     "cell_type": "code",
     "collapsed": false,
     "input": [
      "def find_match(regex):\n",
      "    import re\n",
      "\n",
      "    pattern = re.compile(regex)\n",
      "    match = pattern.search(path)\n",
      "    if match is not None:\n",
      "        print(\"Found match:\", match.group(1))\n",
      "    else:\n",
      "        print(\"No match\")"
     ],
     "language": "python",
     "metadata": {},
     "outputs": [],
     "prompt_number": 196
    },
    {
     "cell_type": "code",
     "collapsed": false,
     "input": [
      "find_match(r'--X([0-9]+)')"
     ],
     "language": "python",
     "metadata": {},
     "outputs": [
      {
       "output_type": "stream",
       "stream": "stdout",
       "text": [
        "Found match: 00\n"
       ]
      }
     ],
     "prompt_number": 197
    },
    {
     "cell_type": "code",
     "collapsed": false,
     "input": [
      "find_match(r'.*--X([0-9]+)')"
     ],
     "language": "python",
     "metadata": {},
     "outputs": [
      {
       "output_type": "stream",
       "stream": "stdout",
       "text": [
        "Found match: 01\n"
       ]
      }
     ],
     "prompt_number": 198
    },
    {
     "cell_type": "code",
     "collapsed": false,
     "input": [
      "find_match(r'--U(0[1-9]+)')"
     ],
     "language": "python",
     "metadata": {},
     "outputs": [
      {
       "output_type": "stream",
       "stream": "stdout",
       "text": [
        "Found match: 01\n"
       ]
      }
     ],
     "prompt_number": 199
    },
    {
     "cell_type": "markdown",
     "metadata": {},
     "source": [
      "# Find all occurrences of --[A-Z]"
     ]
    },
    {
     "cell_type": "code",
     "collapsed": false,
     "input": [
      "pattern = re.compile(r'--([A-Z]+)([0-9]{2})')"
     ],
     "language": "python",
     "metadata": {},
     "outputs": [],
     "prompt_number": 200
    },
    {
     "cell_type": "code",
     "collapsed": false,
     "input": [
      "result = pattern.findall(path)\n",
      "result"
     ],
     "language": "python",
     "metadata": {},
     "outputs": [
      {
       "metadata": {},
       "output_type": "pyout",
       "prompt_number": 201,
       "text": [
        "[('U', '00'),\n",
        " ('V', '00'),\n",
        " ('X', '00'),\n",
        " ('Y', '00'),\n",
        " ('S', '00'),\n",
        " ('U', '01'),\n",
        " ('V', '01'),\n",
        " ('X', '01'),\n",
        " ('Y', '01'),\n",
        " ('L', '00'),\n",
        " ('S', '00'),\n",
        " ('U', '01'),\n",
        " ('V', '01'),\n",
        " ('J', '08'),\n",
        " ('E', '00'),\n",
        " ('O', '00'),\n",
        " ('X', '01'),\n",
        " ('Y', '01'),\n",
        " ('T', '00'),\n",
        " ('Z', '00'),\n",
        " ('C', '00')]"
       ]
      }
     ],
     "prompt_number": 201
    },
    {
     "cell_type": "code",
     "collapsed": false,
     "input": [
      "import bunch\n",
      "bunch.Bunch??"
     ],
     "language": "python",
     "metadata": {},
     "outputs": [],
     "prompt_number": 208
    },
    {
     "cell_type": "code",
     "collapsed": false,
     "input": [
      "bunch,Bunch"
     ],
     "language": "python",
     "metadata": {},
     "outputs": []
    },
    {
     "cell_type": "code",
     "collapsed": false,
     "input": [
      "class A:\n",
      "    pass\n",
      "a = A()\n",
      "for k,v in result:\n",
      "    object.__setattr__(a, k, v) # a could be self\n",
      "a.X"
     ],
     "language": "python",
     "metadata": {},
     "outputs": [
      {
       "metadata": {},
       "output_type": "pyout",
       "prompt_number": 216,
       "text": [
        "'01'"
       ]
      }
     ],
     "prompt_number": 216
    },
    {
     "cell_type": "markdown",
     "metadata": {},
     "source": [
      "# import *"
     ]
    },
    {
     "cell_type": "code",
     "collapsed": false,
     "input": [
      "from matrixscreener.imagej import *"
     ],
     "language": "python",
     "metadata": {},
     "outputs": [],
     "prompt_number": 1
    },
    {
     "cell_type": "code",
     "collapsed": false,
     "input": [
      "who"
     ],
     "language": "python",
     "metadata": {},
     "outputs": [
      {
       "output_type": "stream",
       "stream": "stdout",
       "text": [
        "DEBUG\t IMAGEJ_PATH\t NamedTemporaryFile\t os\t run_imagej\t stitch_macro\t \n"
       ]
      }
     ],
     "prompt_number": 4
    },
    {
     "cell_type": "markdown",
     "metadata": {},
     "source": [
      "# class property alias"
     ]
    },
    {
     "cell_type": "code",
     "collapsed": false,
     "input": [
      "class A:\n",
      "    def __init__(self):\n",
      "        self.chambers = self.wells\n",
      "        self.method()\n",
      "\n",
      "    def method(self):\n",
      "        print('hello')\n",
      "\n",
      "    @property\n",
      "    def wells(self):\n",
      "        return ['00', '01']"
     ],
     "language": "python",
     "metadata": {},
     "outputs": [],
     "prompt_number": 17
    },
    {
     "cell_type": "code",
     "collapsed": false,
     "input": [
      "a = A()\n",
      "a.wells, a.chambers"
     ],
     "language": "python",
     "metadata": {},
     "outputs": [
      {
       "output_type": "stream",
       "stream": "stdout",
       "text": [
        "hello\n"
       ]
      },
      {
       "metadata": {},
       "output_type": "pyout",
       "prompt_number": 18,
       "text": [
        "(['00', '01'], ['00', '01'])"
       ]
      }
     ],
     "prompt_number": 18
    }
   ],
   "metadata": {}
  }
 ]
}