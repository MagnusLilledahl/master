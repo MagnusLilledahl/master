{
 "metadata": {
  "name": "",
  "signature": "sha256:9a50fe4cf9f9b10ba5ba70ca57d68c22b911561f656783d13771c5c542d9971e"
 },
 "nbformat": 3,
 "nbformat_minor": 0,
 "worksheets": [
  {
   "cells": [
    {
     "cell_type": "code",
     "collapsed": false,
     "input": [
      "from IPython import display\n",
      "display.Image('/Users/arve/Downloads/layers.png')"
     ],
     "language": "python",
     "metadata": {},
     "outputs": [
      {
       "metadata": {},
       "output_type": "pyout",
       "png": "[encoded data removed]",
       "prompt_number": 3,
       "text": [
        "<IPython.core.display.Image at 0x1073f2780>"
       ]
      }
     ],
     "prompt_number": 3
    },
    {
     "cell_type": "markdown",
     "metadata": {},
     "source": [
      "- Socket on localhost:8895\n",
      "- like files\n",
      "  - read\n",
      "  - write\n",
      "\n",
      "###example\n",
      "`/cli:python-client /app:matrix /cmd:enableall`"
     ]
    },
    {
     "cell_type": "code",
     "collapsed": false,
     "input": [
      "from matrixscreener.cam import CAM\n",
      "\n",
      "cam = CAM(host='127.0.0.1', port=8895)"
     ],
     "language": "python",
     "metadata": {},
     "outputs": [],
     "prompt_number": 1
    },
    {
     "cell_type": "code",
     "collapsed": false,
     "input": [
      "cam.start_scan()"
     ],
     "language": "python",
     "metadata": {},
     "outputs": []
    },
    {
     "cell_type": "code",
     "collapsed": false,
     "input": [
      "cam.stop_scan()"
     ],
     "language": "python",
     "metadata": {},
     "outputs": []
    },
    {
     "cell_type": "code",
     "collapsed": false,
     "input": [
      "cam.pause_scan()"
     ],
     "language": "python",
     "metadata": {},
     "outputs": []
    },
    {
     "cell_type": "code",
     "collapsed": false,
     "input": [
      "cam.enable(slide=0, wellx=1, welly=1, fieldx=1, fieldy=1)"
     ],
     "language": "python",
     "metadata": {},
     "outputs": [],
     "prompt_number": 3
    },
    {
     "cell_type": "code",
     "collapsed": false,
     "input": [
      "cam.disable(slide=0, wellx=1, welly=1, fieldx=1, fieldy=1)"
     ],
     "language": "python",
     "metadata": {},
     "outputs": [],
     "prompt_number": 4
    },
    {
     "cell_type": "code",
     "collapsed": false,
     "input": [
      "cam.enable_all()"
     ],
     "language": "python",
     "metadata": {},
     "outputs": [],
     "prompt_number": 2
    },
    {
     "cell_type": "code",
     "collapsed": false,
     "input": [
      "cam.disable_all()"
     ],
     "language": "python",
     "metadata": {},
     "outputs": [],
     "prompt_number": 2
    },
    {
     "cell_type": "code",
     "collapsed": false,
     "input": [
      "cam.save_template(filename=\"{ScanningTemplate}matrixscreener.xml\")"
     ],
     "language": "python",
     "metadata": {},
     "outputs": []
    },
    {
     "cell_type": "code",
     "collapsed": false,
     "input": [
      "cam.load_template(filename=\"{ScanningTemplate}matrixscreener.xml\")"
     ],
     "language": "python",
     "metadata": {},
     "outputs": []
    },
    {
     "cell_type": "code",
     "collapsed": false,
     "input": [
      "cam.get_information(about='experiment')"
     ],
     "language": "python",
     "metadata": {},
     "outputs": [
      {
       "metadata": {},
       "output_type": "pyout",
       "prompt_number": 6,
       "text": [
        "OrderedDict([('app', 'matrix'), ('sys', '0'), ('dev', 'experiment'), ('info_for', 'python-matrixscreener'), ('name', '{ScanningTemplate}movement.xml'), ('slides', '0'), ('wellsx', '2'), ('wellsy', '2'), ('fieldsx', '2'), ('fieldsy', '2'), ('loops', '1'), ('reptime', '15'), ('fielddx', '450'), ('fielddy', '450'), ('welldx', '1750'), ('welldy', '1750')])"
       ]
      }
     ],
     "prompt_number": 6
    },
    {
     "cell_type": "code",
     "collapsed": false,
     "input": [
      "cam.get_information(about='stage')"
     ],
     "language": "python",
     "metadata": {},
     "outputs": [
      {
       "metadata": {},
       "output_type": "pyout",
       "prompt_number": 16,
       "text": [
        "OrderedDict([('app', 'matrix'), ('sys', '0'), ('dev', 'stage'), ('info_for', 'python-matrixscreener'), ('unit', 'meter'), ('xpos', '0.042'), ('ypos', '0.031'), ('zpos', '0')])"
       ]
      }
     ],
     "prompt_number": 16
    },
    {
     "cell_type": "code",
     "collapsed": false,
     "input": [
      "cam.get_information(about='zdrive')"
     ],
     "language": "python",
     "metadata": {},
     "outputs": [
      {
       "metadata": {},
       "output_type": "pyout",
       "prompt_number": 18,
       "text": [
        "[OrderedDict([('app', 'matrix'), ('sys', '0'), ('dev', 'zdrive'), ('info_for', 'python-matrixscreener'), ('unit', 'meter'), ('zpos', '0')]),\n",
        " OrderedDict([('cli', 'python-matrixscreener'), ('app', 'matrix'), ('cmd', 'getinfo'), ('dev', 'zdrive')])]"
       ]
      }
     ],
     "prompt_number": 18
    },
    {
     "cell_type": "code",
     "collapsed": false,
     "input": [
      "cam.get_information(about='corring')"
     ],
     "language": "python",
     "metadata": {},
     "outputs": [
      {
       "metadata": {},
       "output_type": "pyout",
       "prompt_number": 20,
       "text": [
        "[OrderedDict([('app', 'matrix'), ('sys', '0'), ('dev', 'corring'), ('info_for', 'python-matrixscreener'), ('angle', '-1'), ('angleMin', '-1'), ('angleMax', '-1')]),\n",
        " OrderedDict([('cli', 'python-matrixscreener'), ('app', 'matrix'), ('cmd', 'getinfo'), ('dev', 'corring')])]"
       ]
      }
     ],
     "prompt_number": 20
    },
    {
     "cell_type": "code",
     "collapsed": false,
     "input": [
      "cam.get_information(about='joblist')"
     ],
     "language": "python",
     "metadata": {},
     "outputs": [
      {
       "metadata": {},
       "output_type": "pyout",
       "prompt_number": 22,
       "text": [
        "[OrderedDict([('cli', 'python-matrixscreener'), ('app', 'matrix'), ('cmd', 'getinfo'), ('dev', 'joblist')])]"
       ]
      }
     ],
     "prompt_number": 22
    },
    {
     "cell_type": "markdown",
     "metadata": {},
     "source": [
      "**from log**\n",
      "\n",
      "```\n",
      " !CAM Exception Detected!\n",
      " -----------------------------------------------------------------------------------------------\n",
      " 12:07:34 PM\t : Original Command: /cli:python-matrixscreener /app:matrix /cmd:getinfo /dev:joblist\n",
      " 12:07:34 PM\t : Client send this: \n",
      " 12:07:34 PM\t : Detected Exception: Need your help: Currently I can not read the job list! Please start the matrix screen one time and try it again to read the current job list!\n",
      "```"
     ]
    },
    {
     "cell_type": "code",
     "collapsed": false,
     "input": [
      "cam.get_information(about='patternlist')"
     ],
     "language": "python",
     "metadata": {},
     "outputs": [
      {
       "ename": "TypeError",
       "evalue": "'NoneType' object is not subscriptable",
       "output_type": "pyerr",
       "traceback": [
        "\u001b[1;31m---------------------------------------------------------------------------\u001b[0m\n\u001b[1;31mTypeError\u001b[0m                                 Traceback (most recent call last)",
        "\u001b[1;32m<ipython-input-42-9a37891648c9>\u001b[0m in \u001b[0;36m<module>\u001b[1;34m()\u001b[0m\n\u001b[1;32m----> 1\u001b[1;33m \u001b[0mcam\u001b[0m\u001b[1;33m.\u001b[0m\u001b[0mget_information\u001b[0m\u001b[1;33m(\u001b[0m\u001b[0mabout\u001b[0m\u001b[1;33m=\u001b[0m\u001b[1;34m'patternlist'\u001b[0m\u001b[1;33m)\u001b[0m\u001b[1;33m\u001b[0m\u001b[0m\n\u001b[0m",
        "\u001b[1;32mc:\\Miniconda3\\lib\\site-packages\\matrixscreener-0.3.0-py3.4.egg\\matrixscreener\\cam.py\u001b[0m in \u001b[0;36mget_information\u001b[1;34m(self, about)\u001b[0m\n\u001b[0;32m    229\u001b[0m         ]\n\u001b[0;32m    230\u001b[0m         \u001b[0mresponse\u001b[0m \u001b[1;33m=\u001b[0m \u001b[0mself\u001b[0m\u001b[1;33m.\u001b[0m\u001b[0msend\u001b[0m\u001b[1;33m(\u001b[0m\u001b[0mcmd\u001b[0m\u001b[1;33m)\u001b[0m\u001b[1;33m\u001b[0m\u001b[0m\n\u001b[1;32m--> 231\u001b[1;33m         \u001b[1;32mreturn\u001b[0m \u001b[0mresponse\u001b[0m\u001b[1;33m[\u001b[0m\u001b[1;36m0\u001b[0m\u001b[1;33m]\u001b[0m \u001b[1;31m# assume we want first response\u001b[0m\u001b[1;33m\u001b[0m\u001b[0m\n\u001b[0m",
        "\u001b[1;31mTypeError\u001b[0m: 'NoneType' object is not subscriptable"
       ]
      }
     ],
     "prompt_number": 42
    },
    {
     "cell_type": "markdown",
     "metadata": {},
     "source": [
      "\n",
      "**from log**\n",
      "\n",
      "```\n",
      " -----------------------------------------------------------------------------------------------\n",
      " 12:09:28 PM\t : Original Command: /cli:python-matrixscreener /app:matrix /cmd:getinfo /dev:patternlist\n",
      " 12:09:28 PM\t : Client send this: \n",
      " 12:09:28 PM\t : Detected Exception: Need your help: Currently I can not read the job list! Please start the matrix screen one time and try it again to read the current job list!\n",
      "```"
     ]
    },
    {
     "cell_type": "code",
     "collapsed": false,
     "input": [
      "cam.get_information(about='scanstatus')"
     ],
     "language": "python",
     "metadata": {},
     "outputs": [
      {
       "metadata": {},
       "output_type": "pyout",
       "prompt_number": 43,
       "text": [
        "OrderedDict([('app', 'matrix'), ('sys', '0'), ('dev', 'scanstatus'), ('info_for', 'python-matrixscreener'), ('val', 'eScanIdle'), ('camlevel', '0')])"
       ]
      }
     ],
     "prompt_number": 43
    },
    {
     "cell_type": "code",
     "collapsed": false,
     "input": [
      "cmd = [\n",
      "    ('cmd', 'getinfo'),\n",
      "    ('scmd', 'position')\n",
      "]\n",
      "cam.send(cmd)"
     ],
     "language": "python",
     "metadata": {},
     "outputs": [
      {
       "metadata": {},
       "output_type": "pyout",
       "prompt_number": 49,
       "text": [
        "[OrderedDict([('cli', 'python-matrixscreener'), ('app', 'matrix'), ('cmd', 'getinfo'), ('scmd', 'position')])]"
       ]
      }
     ],
     "prompt_number": 49
    },
    {
     "cell_type": "code",
     "collapsed": false,
     "input": [
      "cmd = [\n",
      "    ('cmd', 'getinfo'),\n",
      "    ('scmd', 'loadposition')\n",
      "]\n",
      "cam.send(cmd)"
     ],
     "language": "python",
     "metadata": {},
     "outputs": [
      {
       "metadata": {},
       "output_type": "pyout",
       "prompt_number": 57,
       "text": [
        "[OrderedDict([('cli', 'python-matrixscreener'), ('app', 'matrix'), ('cmd', 'getinfo'), ('scmd', 'loadposition')])]"
       ]
      }
     ],
     "prompt_number": 57
    },
    {
     "cell_type": "code",
     "collapsed": false,
     "input": [
      "cmd = [\n",
      "    ('cmd', 'getinfo'),\n",
      "    ('scmd', 'afzusemode')\n",
      "]\n",
      "cam.send(cmd)"
     ],
     "language": "python",
     "metadata": {},
     "outputs": [
      {
       "metadata": {},
       "output_type": "pyout",
       "prompt_number": 60,
       "text": [
        "[OrderedDict([('cli', 'python-matrixscreener'), ('app', 'matrix'), ('cmd', 'getinfo'), ('scmd', 'afzusemode')])]"
       ]
      }
     ],
     "prompt_number": 60
    },
    {
     "cell_type": "code",
     "collapsed": false,
     "input": [
      "cmd = [\n",
      "    ('cmd', 'getinfo'),\n",
      "    ('scmd', 'afzposition')\n",
      "]\n",
      "cam.send(cmd)"
     ],
     "language": "python",
     "metadata": {},
     "outputs": [
      {
       "metadata": {},
       "output_type": "pyout",
       "prompt_number": 62,
       "text": [
        "[OrderedDict([('cli', 'python-matrixscreener'), ('app', 'matrix'), ('cmd', 'getinfo'), ('scmd', 'afzposition')])]"
       ]
      }
     ],
     "prompt_number": 62
    }
   ],
   "metadata": {}
  }
 ]
}