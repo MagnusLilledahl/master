{
 "metadata": {
  "name": "",
  "signature": "sha256:5e0ed21645b9db923918b3b0d8fbc2bb58d34a93bd295a1f81fa1ac13a253a35"
 },
 "nbformat": 3,
 "nbformat_minor": 0,
 "worksheets": [
  {
   "cells": [
    {
     "cell_type": "code",
     "collapsed": false,
     "input": [
      "import matrixscreener.experiment as mse"
     ],
     "language": "python",
     "metadata": {},
     "outputs": [],
     "prompt_number": 1
    },
    {
     "cell_type": "code",
     "collapsed": false,
     "input": [
      "e = mse.Experiment('MatrixScreenerImages/3.3.0_9757/experiment--2015_02_09_19_12_35/')"
     ],
     "language": "python",
     "metadata": {},
     "outputs": [],
     "prompt_number": 2
    },
    {
     "cell_type": "code",
     "collapsed": false,
     "input": [
      "mse.stitch(e.wells[0])"
     ],
     "language": "python",
     "metadata": {},
     "outputs": [
      {
       "output_type": "stream",
       "stream": "stdout",
       "text": [
        "matrixscreener ERROR: ImageJ exited with code 1.\n",
        "matrixscreener Try running script with `DEBUG=matrixscreener python script.py`\n"
       ]
      },
      {
       "metadata": {},
       "output_type": "pyout",
       "prompt_number": 3,
       "text": [
        "[]"
       ]
      }
     ],
     "prompt_number": 3
    }
   ],
   "metadata": {}
  }
 ]
}