{
 "metadata": {
  "name": "",
  "signature": "sha256:e884218e2e0268ea6206ee9fada166458e6476accaed834746039c831092078e"
 },
 "nbformat": 3,
 "nbformat_minor": 0,
 "worksheets": [
  {
   "cells": [
    {
     "cell_type": "code",
     "collapsed": false,
     "input": [
      "from matrixscreener.cam import CAM\n",
      "\n",
      "cam = CAM()"
     ],
     "language": "python",
     "metadata": {},
     "outputs": [],
     "prompt_number": 1
    },
    {
     "cell_type": "code",
     "collapsed": false,
     "input": [
      "cam.get_information('status')"
     ],
     "language": "python",
     "metadata": {},
     "outputs": [
      {
       "metadata": {},
       "output_type": "pyout",
       "prompt_number": 2,
       "text": [
        "OrderedDict([('cli', 'python-matrixscreener'), ('app', 'matrix'), ('cmd', 'getinfo'), ('dev', 'status')])"
       ]
      }
     ],
     "prompt_number": 2
    },
    {
     "cell_type": "code",
     "collapsed": false,
     "input": [],
     "language": "python",
     "metadata": {},
     "outputs": []
    }
   ],
   "metadata": {}
  }
 ]
}