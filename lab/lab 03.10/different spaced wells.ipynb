{
 "cells": [
  {
   "cell_type": "markdown",
   "metadata": {},
   "source": [
    "# move\n",
    "\n",
    "- runned before starting LAS X"
   ]
  },
  {
   "cell_type": "code",
   "execution_count": 1,
   "metadata": {
    "collapsed": true
   },
   "outputs": [],
   "source": [
    "from leicascanningtemplate import ScanningTemplate"
   ]
  },
  {
   "cell_type": "code",
   "execution_count": 2,
   "metadata": {
    "collapsed": false
   },
   "outputs": [
    {
     "name": "stdout",
     "output_type": "stream",
     "text": [
      " Volume in drive C is Windows\n",
      " Volume Serial Number is 620C-DB4F\n",
      "\n",
      " Directory of C:\\Users\\TCS-User\\AppData\\Roaming\\Leica Microsystems\\LAS X\\MatrixScreener\\ScanningTemplates\n",
      "\n",
      "03/10/2015  07:33 PM           154,718 {ScanningTemplate}leicascanningtemplate.xml\n",
      "               1 File(s)        154,718 bytes\n",
      "               0 Dir(s)  82,355,863,552 bytes free\n"
     ]
    }
   ],
   "source": [
    "p = b\"C:\\Users\\TCS-User\\AppData\\Roaming\\Leica Microsystems\\LAS X\\MatrixScreener\\ScanningTemplates\".decode()\n",
    "f = p + b\"\\{ScanningTemplate}leicascanningtemplate.xml\".decode()\n",
    "!dir \"$f\""
   ]
  },
  {
   "cell_type": "code",
   "execution_count": 3,
   "metadata": {
    "collapsed": true
   },
   "outputs": [],
   "source": [
    "tmpl = ScanningTemplate(f)"
   ]
  },
  {
   "cell_type": "code",
   "execution_count": 4,
   "metadata": {
    "collapsed": false
   },
   "outputs": [
    {
     "data": {
      "text/plain": [
       "('0.0301', '0.030199999999999998')"
      ]
     },
     "execution_count": 4,
     "metadata": {},
     "output_type": "execute_result"
    }
   ],
   "source": [
    "pos = (1,2)\n",
    "tmpl.well(*pos).attrib['FieldXStartCoordinate'], tmpl.well(*pos).attrib['FieldYStartCoordinate'],"
   ]
  },
  {
   "cell_type": "code",
   "execution_count": 5,
   "metadata": {
    "collapsed": true
   },
   "outputs": [],
   "source": [
    "move = pos + (302e-4, 302e-4)\n",
    "tmpl.move_well(*move)"
   ]
  },
  {
   "cell_type": "code",
   "execution_count": 6,
   "metadata": {
    "collapsed": false
   },
   "outputs": [
    {
     "data": {
      "text/plain": [
       "('0.0302', '0.0302')"
      ]
     },
     "execution_count": 6,
     "metadata": {},
     "output_type": "execute_result"
    }
   ],
   "source": [
    "tmpl.well(*pos).attrib['FieldXStartCoordinate'], tmpl.well(*pos).attrib['FieldYStartCoordinate']"
   ]
  },
  {
   "cell_type": "code",
   "execution_count": 7,
   "metadata": {
    "collapsed": false
   },
   "outputs": [
    {
     "data": {
      "text/plain": [
       "(0.0302, 0.0302)"
      ]
     },
     "execution_count": 7,
     "metadata": {},
     "output_type": "execute_result"
    }
   ],
   "source": [
    "field = tmpl.field(1,2,1,1)\n",
    "field.FieldXCoordinate, field.FieldYCoordinate"
   ]
  },
  {
   "cell_type": "code",
   "execution_count": 9,
   "metadata": {
    "collapsed": false
   },
   "outputs": [
    {
     "data": {
      "text/plain": [
       "{'AFSliceCount': '0', 'IsPumpScanField': 'false', 'SlideNo': '0', 'WellY': '2', 'Indicator': 'IsStandardScanField', 'Enabled': 'true', 'DriftSliceCount': '0', 'JobAssigned': 'true', 'Shape': 'IsRectangle', 'AFJobId': '0', 'IsTrackingField': 'false', 'IsMosaicCalibrationField': 'false', 'IsAutofocusScanField': 'false', 'PumpTime': '1000', 'IsDriftCompensationField': 'false', 'AFScanRange': '0', 'LabelX': 'A', 'WellX': '1', 'FieldY': '1', 'JobName': 'Job 2', 'JobId': '14', 'AFScore': '0', 'PumpDelay': '1000', 'DriftScanRange': '0', 'LabelY': '2', 'State': 'IsActive', 'Selected': 'false', 'Description': 'MatrixScreener', 'FieldX': '1', 'IsIndividualAutofocusScanField': 'false'}"
      ]
     },
     "execution_count": 9,
     "metadata": {},
     "output_type": "execute_result"
    }
   ],
   "source": [
    "field.attrib"
   ]
  },
  {
   "cell_type": "code",
   "execution_count": 8,
   "metadata": {
    "collapsed": true
   },
   "outputs": [],
   "source": [
    "tmpl.write()"
   ]
  },
  {
   "cell_type": "markdown",
   "metadata": {},
   "source": [
    "## result\n",
    "- no change\n",
    "- start at 30.100"
   ]
  },
  {
   "cell_type": "code",
   "execution_count": 8,
   "metadata": {
    "collapsed": true
   },
   "outputs": [],
   "source": [
    "tmpl = ScanningTemplate(f)"
   ]
  },
  {
   "cell_type": "code",
   "execution_count": 9,
   "metadata": {
    "collapsed": false
   },
   "outputs": [
    {
     "data": {
      "text/plain": [
       "'0.0331'"
      ]
     },
     "execution_count": 9,
     "metadata": {},
     "output_type": "execute_result"
    }
   ],
   "source": [
    "tmpl.well(1,1).attrib['FieldXStartCoordinate']"
   ]
  },
  {
   "cell_type": "code",
   "execution_count": 10,
   "metadata": {
    "collapsed": false
   },
   "outputs": [
    {
     "data": {
      "text/plain": [
       "0.0331"
      ]
     },
     "execution_count": 10,
     "metadata": {},
     "output_type": "execute_result"
    }
   ],
   "source": [
    "tmpl.field(1,1,1,1).FieldXCoordinate"
   ]
  },
  {
   "cell_type": "markdown",
   "metadata": {},
   "source": [
    "## saved in GUI"
   ]
  },
  {
   "cell_type": "code",
   "execution_count": 11,
   "metadata": {
    "collapsed": true
   },
   "outputs": [],
   "source": [
    "tmpl = ScanningTemplate(f)"
   ]
  },
  {
   "cell_type": "code",
   "execution_count": 12,
   "metadata": {
    "collapsed": false
   },
   "outputs": [
    {
     "data": {
      "text/plain": [
       "'0.0301'"
      ]
     },
     "execution_count": 12,
     "metadata": {},
     "output_type": "execute_result"
    }
   ],
   "source": [
    "tmpl.well(1,1).attrib['FieldXStartCoordinate']"
   ]
  },
  {
   "cell_type": "code",
   "execution_count": 13,
   "metadata": {
    "collapsed": false
   },
   "outputs": [
    {
     "data": {
      "text/plain": [
       "0.0301"
      ]
     },
     "execution_count": 13,
     "metadata": {},
     "output_type": "execute_result"
    }
   ],
   "source": [
    "tmpl.field(1,1,1,1).FieldXCoordinate"
   ]
  },
  {
   "cell_type": "markdown",
   "metadata": {},
   "source": [
    "# copy -> move well -> load from file menu"
   ]
  },
  {
   "cell_type": "code",
   "execution_count": 19,
   "metadata": {
    "collapsed": false
   },
   "outputs": [
    {
     "name": "stdout",
     "output_type": "stream",
     "text": [
      "0.0331 0.0331\n"
     ]
    },
    {
     "data": {
      "text/plain": [
       "('0.0331', 0.0331)"
      ]
     },
     "execution_count": 19,
     "metadata": {},
     "output_type": "execute_result"
    }
   ],
   "source": [
    "f = p + b\"\\{ScanningTemplate}copied.xml\".decode()\n",
    "tmpl = ScanningTemplate(f)\n",
    "print(tmpl.well(*pos).attrib['FieldXStartCoordinate'], tmpl.well_fields(*pos)[0].FieldXCoordinate)\n",
    "\n",
    "tmpl.move_well(*move)\n",
    "\n",
    "tmpl.well(*pos).attrib['FieldXStartCoordinate'], tmpl.well_fields(*pos)[0].FieldXCoordinate"
   ]
  },
  {
   "cell_type": "code",
   "execution_count": 20,
   "metadata": {
    "collapsed": true
   },
   "outputs": [],
   "source": [
    "tmpl.write()"
   ]
  },
  {
   "cell_type": "markdown",
   "metadata": {},
   "source": [
    "# move -> WellXOffset (commented out moving of fields)"
   ]
  },
  {
   "cell_type": "code",
   "execution_count": 14,
   "metadata": {
    "collapsed": false
   },
   "outputs": [
    {
     "name": "stdout",
     "output_type": "stream",
     "text": [
      "0.030099999237229995 0.030099999237229995\n"
     ]
    },
    {
     "data": {
      "text/plain": [
       "{'MosaicSingleImageWidth': '1', 'MosaicScanImageRotation': '0', 'FieldYStartCoordinate': '0.030099999237229995', 'SlideNo': '1', 'WellY': '1', 'Indicator': 'IsStandardScanWell', 'FieldXStartCoordinate': '0.030099999237229995', 'MosaicImageEndX': '0', 'FieldZCoordinate': '-2.3841880645312022E-10', 'ScanFieldDiameter': '20', 'MosaicImageEndY': '0', 'MosaicTileImageOverlapY': '0', 'MosaicImageStartX': '0', 'MosaicImageHeight': '1', 'XCountOfFields': '5', 'MosaicSingleImageHeight': '1', 'MosaicImageWidth': '1', 'MosaicTileImageOverlapX': '0', 'MosaicFlipImage': 'false', 'YCountOfFields': '5', 'MosaicImageStartY': '0', 'WellX': '1', 'WellYOffset': '0', 'WellXOffset': '100'}"
      ]
     },
     "execution_count": 14,
     "metadata": {},
     "output_type": "execute_result"
    }
   ],
   "source": [
    "from leicascanningtemplate import ScanningTemplate\n",
    "p = b\"C:\\Users\\TCS-User\\AppData\\Roaming\\Leica Microsystems\\LAS X\\MatrixScreener\\ScanningTemplates\".decode()\n",
    "f = p + b\"\\{ScanningTemplate}asdf.xml\".decode()\n",
    "tmpl = ScanningTemplate(f)\n",
    "\n",
    "pos = (1,1)\n",
    "move = pos + (331e-4, 331e-4)\n",
    "\n",
    "print(tmpl.well(*pos).attrib['FieldXStartCoordinate'], tmpl.well_fields(*pos)[0].FieldXCoordinate)\n",
    "\n",
    "tmpl.well(1,1).attrib"
   ]
  },
  {
   "cell_type": "code",
   "execution_count": 18,
   "metadata": {
    "collapsed": true
   },
   "outputs": [],
   "source": [
    "tmpl.well(1,1).attrib['WellXOffset'] = '0.01'\n",
    "tmpl.well(2,2).attrib['WellXOffset'] = '0.01'"
   ]
  },
  {
   "cell_type": "code",
   "execution_count": 19,
   "metadata": {
    "collapsed": false
   },
   "outputs": [
    {
     "data": {
      "text/plain": [
       "{'MosaicSingleImageWidth': '1', 'MosaicScanImageRotation': '0', 'FieldYStartCoordinate': '0.030099999237229995', 'SlideNo': '1', 'WellY': '1', 'Indicator': 'IsStandardScanWell', 'FieldXStartCoordinate': '0.030099999237229995', 'MosaicImageEndX': '0', 'FieldZCoordinate': '-2.3841880645312022E-10', 'ScanFieldDiameter': '20', 'MosaicImageEndY': '0', 'MosaicTileImageOverlapY': '0', 'MosaicImageStartX': '0', 'MosaicImageHeight': '1', 'XCountOfFields': '5', 'MosaicSingleImageHeight': '1', 'MosaicImageWidth': '1', 'MosaicTileImageOverlapX': '0', 'MosaicFlipImage': 'false', 'YCountOfFields': '5', 'MosaicImageStartY': '0', 'WellX': '1', 'WellYOffset': '0', 'WellXOffset': '0.01'}"
      ]
     },
     "execution_count": 19,
     "metadata": {},
     "output_type": "execute_result"
    }
   ],
   "source": [
    "tmpl.well(1,1).attrib"
   ]
  },
  {
   "cell_type": "code",
   "execution_count": 20,
   "metadata": {
    "collapsed": true
   },
   "outputs": [],
   "source": [
    "tmpl.write()"
   ]
  },
  {
   "cell_type": "markdown",
   "metadata": {},
   "source": [
    "# add single"
   ]
  },
  {
   "cell_type": "code",
   "execution_count": 4,
   "metadata": {
    "collapsed": false
   },
   "outputs": [],
   "source": [
    "tmpl.add_well(1,4,3e-2,3e-2)"
   ]
  },
  {
   "cell_type": "code",
   "execution_count": 5,
   "metadata": {
    "collapsed": true
   },
   "outputs": [],
   "source": [
    "tmpl.write()"
   ]
  },
  {
   "cell_type": "markdown",
   "metadata": {},
   "source": [
    "- added\n",
    "- empty greyed out"
   ]
  },
  {
   "cell_type": "code",
   "execution_count": 9,
   "metadata": {
    "collapsed": false
   },
   "outputs": [
    {
     "data": {
      "image/png": "[encoded data removed]",
      "text/plain": [
       "<IPython.core.display.Image object>"
      ]
     },
     "execution_count": 9,
     "metadata": {},
     "output_type": "execute_result"
    }
   ],
   "source": [
    "from IPython import display\n",
    "display.Image('../Capture.PNG')"
   ]
  },
  {
   "cell_type": "code",
   "execution_count": 10,
   "metadata": {
    "collapsed": true
   },
   "outputs": [],
   "source": [
    "tmpl = ScanningTemplate(f)"
   ]
  },
  {
   "cell_type": "code",
   "execution_count": 11,
   "metadata": {
    "collapsed": false
   },
   "outputs": [
    {
     "data": {
      "text/plain": [
       "(2, 4)"
      ]
     },
     "execution_count": 11,
     "metadata": {},
     "output_type": "execute_result"
    }
   ],
   "source": [
    "tmpl.properties.CountOfWellsX, tmpl.properties.CountOfWellsY"
   ]
  },
  {
   "cell_type": "code",
   "execution_count": 12,
   "metadata": {
    "collapsed": false
   },
   "outputs": [
    {
     "data": {
      "text/plain": [
       "(2, 4)"
      ]
     },
     "execution_count": 12,
     "metadata": {},
     "output_type": "execute_result"
    }
   ],
   "source": [
    "tmpl.count_of_wells"
   ]
  },
  {
   "cell_type": "code",
   "execution_count": null,
   "metadata": {
    "collapsed": true
   },
   "outputs": [],
   "source": []
  }
 ],
 "metadata": {
  "kernelspec": {
   "display_name": "Python 3",
   "language": "python",
   "name": "python3"
  },
  "language_info": {
   "codemirror_mode": {
    "name": "ipython",
    "version": 3
   },
   "file_extension": ".py",
   "mimetype": "text/x-python",
   "name": "python",
   "nbconvert_exporter": "python",
   "pygments_lexer": "ipython3",
   "version": "3.4.1"
  }
 },
 "nbformat": 4,
 "nbformat_minor": 0
}
