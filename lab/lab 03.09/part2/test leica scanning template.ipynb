{
 "metadata": {
  "name": "",
  "signature": "sha256:66e7200007b8477b547cc8a2e64dd56ff64af1946af2601fd7c4ffaa94317b84"
 },
 "nbformat": 3,
 "nbformat_minor": 0,
 "worksheets": [
  {
   "cells": [
    {
     "cell_type": "markdown",
     "metadata": {},
     "source": [
      "# load -> save"
     ]
    },
    {
     "cell_type": "code",
     "collapsed": false,
     "input": [
      "from leicascanningtemplate import ScanningTemplate"
     ],
     "language": "python",
     "metadata": {},
     "outputs": [],
     "prompt_number": 8
    },
    {
     "cell_type": "code",
     "collapsed": false,
     "input": [
      "p = b\"C:\\Users\\TCS-User\\AppData\\Roaming\\Leica Microsystems\\LAS X\\MatrixScreener\\ScanningTemplates\".decode()\n",
      "type(p), p"
     ],
     "language": "python",
     "metadata": {},
     "outputs": [
      {
       "metadata": {},
       "output_type": "pyout",
       "prompt_number": 9,
       "text": [
        "(str,\n",
        " 'C:\\\\Users\\\\TCS-User\\\\AppData\\\\Roaming\\\\Leica Microsystems\\\\LAS X\\\\MatrixScreener\\\\ScanningTemplates')"
       ]
      }
     ],
     "prompt_number": 9
    },
    {
     "cell_type": "code",
     "collapsed": false,
     "input": [
      "f = p + b\"\\{ScanningTemplate}leicascanningtemplate.xml\".decode()\n",
      "print(f)\n",
      "!dir \"$f\""
     ],
     "language": "python",
     "metadata": {},
     "outputs": [
      {
       "output_type": "stream",
       "stream": "stdout",
       "text": [
        "C:\\Users\\TCS-User\\AppData\\Roaming\\Leica Microsystems\\LAS X\\MatrixScreener\\ScanningTemplates\\{ScanningTemplate}leicascanningtemplate.xml\n"
       ]
      },
      {
       "output_type": "stream",
       "stream": "stdout",
       "text": [
        " Volume in drive C is Windows\n",
        " Volume Serial Number is 620C-DB4F\n",
        "\n",
        " Directory of C:\\Users\\TCS-User\\AppData\\Roaming\\Leica Microsystems\\LAS X\\MatrixScreener\\ScanningTemplates\n",
        "\n",
        "03/09/2015  01:50 PM           253,052 {ScanningTemplate}leicascanningtemplate.xml\n",
        "               1 File(s)        253,052 bytes\n",
        "               0 Dir(s)  82,419,527,680 bytes free\n"
       ]
      }
     ],
     "prompt_number": 10
    },
    {
     "cell_type": "code",
     "collapsed": false,
     "input": [
      "tmpl = ScanningTemplate(f)"
     ],
     "language": "python",
     "metadata": {},
     "outputs": [],
     "prompt_number": 15
    },
    {
     "cell_type": "code",
     "collapsed": false,
     "input": [
      "tmpl.write()"
     ],
     "language": "python",
     "metadata": {},
     "outputs": [],
     "prompt_number": 17
    },
    {
     "cell_type": "code",
     "collapsed": false,
     "input": [
      "!dir \"$f\""
     ],
     "language": "python",
     "metadata": {},
     "outputs": [
      {
       "output_type": "stream",
       "stream": "stdout",
       "text": [
        " Volume in drive C is Windows\n",
        " Volume Serial Number is 620C-DB4F\n",
        "\n",
        " Directory of C:\\Users\\TCS-User\\AppData\\Roaming\\Leica Microsystems\\LAS X\\MatrixScreener\\ScanningTemplates\n",
        "\n",
        "03/09/2015  01:52 PM           154,304 {ScanningTemplate}leicascanningtemplate.xml\n",
        "               1 File(s)        154,304 bytes\n",
        "               0 Dir(s)  82,419,740,672 bytes free\n"
       ]
      }
     ],
     "prompt_number": 18
    },
    {
     "cell_type": "markdown",
     "metadata": {},
     "source": [
      "# add well row"
     ]
    },
    {
     "cell_type": "code",
     "collapsed": false,
     "input": [
      "tmpl = ScanningTemplate(f)\n",
      "!dir \"$f\""
     ],
     "language": "python",
     "metadata": {},
     "outputs": [
      {
       "output_type": "stream",
       "stream": "stdout",
       "text": [
        " Volume in drive C is Windows\n",
        " Volume Serial Number is 620C-DB4F\n",
        "\n",
        " Directory of C:\\Users\\TCS-User\\AppData\\Roaming\\Leica Microsystems\\LAS X\\MatrixScreener\\ScanningTemplates\n",
        "\n",
        "03/09/2015  01:55 PM           153,625 {ScanningTemplate}leicascanningtemplate.xml\n",
        "               1 File(s)        153,625 bytes\n",
        "               0 Dir(s)  82,419,597,312 bytes free\n"
       ]
      }
     ],
     "prompt_number": 32
    },
    {
     "cell_type": "code",
     "collapsed": false,
     "input": [
      "tmpl.count_of_wells"
     ],
     "language": "python",
     "metadata": {},
     "outputs": [
      {
       "metadata": {},
       "output_type": "pyout",
       "prompt_number": 33,
       "text": [
        "(2, 3)"
       ]
      }
     ],
     "prompt_number": 33
    },
    {
     "cell_type": "code",
     "collapsed": false,
     "input": [
      "tmpl.properties.CountOfWellsX"
     ],
     "language": "python",
     "metadata": {},
     "outputs": [
      {
       "metadata": {},
       "output_type": "pyout",
       "prompt_number": 34,
       "text": [
        "2"
       ]
      }
     ],
     "prompt_number": 34
    },
    {
     "cell_type": "code",
     "collapsed": false,
     "input": [
      "tmpl.properties.CountOfWellsY"
     ],
     "language": "python",
     "metadata": {},
     "outputs": [
      {
       "metadata": {},
       "output_type": "pyout",
       "prompt_number": 35,
       "text": [
        "3"
       ]
      }
     ],
     "prompt_number": 35
    },
    {
     "cell_type": "code",
     "collapsed": false,
     "input": [
      "y_start = float(tmpl.well(1,3).attrib['FieldYStartCoordinate']) + tmpl.properties.ScanWellStageDistanceY * 1e-6\n",
      "\n",
      "for i in range(1, 3):\n",
      "    x_start = float(tmpl.well(i,3).attrib['FieldXStartCoordinate'])\n",
      "    tmpl.add_well(i, 4, x_start, y_start)"
     ],
     "language": "python",
     "metadata": {},
     "outputs": [],
     "prompt_number": 36
    },
    {
     "cell_type": "code",
     "collapsed": false,
     "input": [
      "tmpl.well(1,4).attrib['FieldXStartCoordinate']"
     ],
     "language": "python",
     "metadata": {},
     "outputs": [
      {
       "metadata": {},
       "output_type": "pyout",
       "prompt_number": 37,
       "text": [
        "'0.057274'"
       ]
      }
     ],
     "prompt_number": 37
    },
    {
     "cell_type": "code",
     "collapsed": false,
     "input": [
      "tmpl.count_of_wells"
     ],
     "language": "python",
     "metadata": {},
     "outputs": [
      {
       "metadata": {},
       "output_type": "pyout",
       "prompt_number": 38,
       "text": [
        "(2, 4)"
       ]
      }
     ],
     "prompt_number": 38
    },
    {
     "cell_type": "code",
     "collapsed": false,
     "input": [
      "tmpl.write()"
     ],
     "language": "python",
     "metadata": {},
     "outputs": [],
     "prompt_number": 39
    },
    {
     "cell_type": "code",
     "collapsed": false,
     "input": [
      "!dir \"$f\""
     ],
     "language": "python",
     "metadata": {},
     "outputs": [
      {
       "output_type": "stream",
       "stream": "stdout",
       "text": [
        " Volume in drive C is Windows\n",
        " Volume Serial Number is 620C-DB4F\n",
        "\n",
        " Directory of C:\\Users\\TCS-User\\AppData\\Roaming\\Leica Microsystems\\LAS X\\MatrixScreener\\ScanningTemplates\n",
        "\n",
        "03/09/2015  01:57 PM           208,158 {ScanningTemplate}leicascanningtemplate.xml\n",
        "               1 File(s)        208,158 bytes\n",
        "               0 Dir(s)  82,419,544,064 bytes free\n"
       ]
      }
     ],
     "prompt_number": 40
    }
   ],
   "metadata": {}
  }
 ]
}