{
 "metadata": {
  "name": "",
  "signature": "sha256:128762f7f9b9e3c119f18f199df77279b594b2d10e3f879d7d7f55324da4240d"
 },
 "nbformat": 3,
 "nbformat_minor": 0,
 "worksheets": [
  {
   "cells": [
    {
     "cell_type": "markdown",
     "metadata": {},
     "source": [
      "# test load of XML"
     ]
    },
    {
     "cell_type": "code",
     "collapsed": false,
     "input": [
      "from leicascanningtemplate import ScanningTemplate"
     ],
     "language": "python",
     "metadata": {},
     "outputs": [],
     "prompt_number": 2
    },
    {
     "cell_type": "code",
     "collapsed": false,
     "input": [
      "p = b\"C:\\Users\\TCS-User\\AppData\\Roaming\\Leica Microsystems\\LAS X\\MatrixScreener\\ScanningTemplates\".decode()\n",
      "type(p), p"
     ],
     "language": "python",
     "metadata": {},
     "outputs": [
      {
       "metadata": {},
       "output_type": "pyout",
       "prompt_number": 9,
       "text": [
        "(str,\n",
        " 'C:\\\\Users\\\\TCS-User\\\\AppData\\\\Roaming\\\\Leica Microsystems\\\\LAS X\\\\MatrixScreener\\\\ScanningTemplates')"
       ]
      }
     ],
     "prompt_number": 9
    },
    {
     "cell_type": "code",
     "collapsed": false,
     "input": [
      "f = p + b\"\\{ScanningTemplate}leicascanningtemplate.xml\".decode()\n",
      "print(f)\n",
      "!dir \"$f\""
     ],
     "language": "python",
     "metadata": {},
     "outputs": [
      {
       "output_type": "stream",
       "stream": "stdout",
       "text": [
        "C:\\Users\\TCS-User\\AppData\\Roaming\\Leica Microsystems\\LAS X\\MatrixScreener\\ScanningTemplates\\{ScanningTemplate}leicascanningtemplate.xml\n"
       ]
      },
      {
       "output_type": "stream",
       "stream": "stdout",
       "text": [
        " Volume in drive C is Windows\n",
        " Volume Serial Number is 620C-DB4F\n",
        "\n",
        " Directory of C:\\Users\\TCS-User\\AppData\\Roaming\\Leica Microsystems\\LAS X\\MatrixScreener\\ScanningTemplates\n",
        "\n",
        "03/09/2015  11:07 AM           223,641 {ScanningTemplate}leicascanningtemplate.xml\n",
        "               1 File(s)        223,641 bytes\n",
        "               0 Dir(s)  82,423,820,288 bytes free\n"
       ]
      }
     ],
     "prompt_number": 14
    },
    {
     "cell_type": "code",
     "collapsed": false,
     "input": [
      "tmpl = ScanningTemplate(f)"
     ],
     "language": "python",
     "metadata": {},
     "outputs": [],
     "prompt_number": 41
    },
    {
     "cell_type": "code",
     "collapsed": false,
     "input": [
      "tmpl.count_of_wells"
     ],
     "language": "python",
     "metadata": {},
     "outputs": [
      {
       "metadata": {},
       "output_type": "pyout",
       "prompt_number": 42,
       "text": [
        "(3, 4)"
       ]
      }
     ],
     "prompt_number": 42
    },
    {
     "cell_type": "code",
     "collapsed": false,
     "input": [
      "tmpl.properties.CountOfWellsX"
     ],
     "language": "python",
     "metadata": {},
     "outputs": [
      {
       "metadata": {},
       "output_type": "pyout",
       "prompt_number": 43,
       "text": [
        "3"
       ]
      }
     ],
     "prompt_number": 43
    },
    {
     "cell_type": "code",
     "collapsed": false,
     "input": [
      "tmpl.properties.CountOfWellsY"
     ],
     "language": "python",
     "metadata": {},
     "outputs": [
      {
       "metadata": {},
       "output_type": "pyout",
       "prompt_number": 44,
       "text": [
        "4"
       ]
      }
     ],
     "prompt_number": 44
    },
    {
     "cell_type": "code",
     "collapsed": false,
     "input": [
      "y_start = float(tmpl.well(1,3).attrib['FieldYStartCoordinate']) + tmpl.properties.ScanWellStageDistanceY * 1e-6\n",
      "\n",
      "for i in range(1, 4):\n",
      "    x_start = float(tmpl.well(i,3).attrib['FieldXStartCoordinate'])\n",
      "    tmpl.add_well(i, 4, x_start, y_start)"
     ],
     "language": "python",
     "metadata": {},
     "outputs": [],
     "prompt_number": 36
    },
    {
     "cell_type": "code",
     "collapsed": false,
     "input": [
      "tmpl.well(1,4).attrib['FieldYStartCoordinate']"
     ],
     "language": "python",
     "metadata": {},
     "outputs": [
      {
       "metadata": {},
       "output_type": "pyout",
       "prompt_number": 38,
       "text": [
        "'0.044496999999999995'"
       ]
      }
     ],
     "prompt_number": 38
    },
    {
     "cell_type": "code",
     "collapsed": false,
     "input": [
      "tmpl.count_of_wells"
     ],
     "language": "python",
     "metadata": {},
     "outputs": [
      {
       "metadata": {},
       "output_type": "pyout",
       "prompt_number": 39,
       "text": [
        "(3, 4)"
       ]
      }
     ],
     "prompt_number": 39
    },
    {
     "cell_type": "code",
     "collapsed": false,
     "input": [
      "tmpl.write()"
     ],
     "language": "python",
     "metadata": {},
     "outputs": [],
     "prompt_number": 40
    },
    {
     "cell_type": "markdown",
     "metadata": {},
     "source": [
      "# created new"
     ]
    },
    {
     "cell_type": "code",
     "collapsed": false,
     "input": [
      "!dir \"$f\""
     ],
     "language": "python",
     "metadata": {},
     "outputs": [
      {
       "output_type": "stream",
       "stream": "stdout",
       "text": [
        " Volume in drive C is Windows\n",
        " Volume Serial Number is 620C-DB4F\n",
        "\n",
        " Directory of C:\\Users\\TCS-User\\AppData\\Roaming\\Leica Microsystems\\LAS X\\MatrixScreener\\ScanningTemplates\n",
        "\n",
        "03/09/2015  11:29 AM           284,204 {ScanningTemplate}leicascanningtemplate.xml\n",
        "               1 File(s)        284,204 bytes\n",
        "               0 Dir(s)  82,422,153,216 bytes free\n"
       ]
      }
     ],
     "prompt_number": 47
    },
    {
     "cell_type": "code",
     "collapsed": false,
     "input": [
      "tmpl = ScanningTemplate(f)"
     ],
     "language": "python",
     "metadata": {},
     "outputs": [],
     "prompt_number": 48
    },
    {
     "cell_type": "code",
     "collapsed": false,
     "input": [
      "tmpl.write()"
     ],
     "language": "python",
     "metadata": {},
     "outputs": [],
     "prompt_number": 49
    },
    {
     "cell_type": "code",
     "collapsed": false,
     "input": [
      "!dir \"$f\""
     ],
     "language": "python",
     "metadata": {},
     "outputs": [
      {
       "output_type": "stream",
       "stream": "stdout",
       "text": [
        " Volume in drive C is Windows\n",
        " Volume Serial Number is 620C-DB4F\n",
        "\n",
        " Directory of C:\\Users\\TCS-User\\AppData\\Roaming\\Leica Microsystems\\LAS X\\MatrixScreener\\ScanningTemplates\n",
        "\n",
        "03/09/2015  11:30 AM           281,575 {ScanningTemplate}leicascanningtemplate.xml\n",
        "               1 File(s)        281,575 bytes\n",
        "               0 Dir(s)  82,422,157,312 bytes free\n"
       ]
      }
     ],
     "prompt_number": 50
    }
   ],
   "metadata": {}
  }
 ]
}