{
 "metadata": {
  "name": "",
  "signature": "sha256:5fb123a2d9bf55c0786bc3df0b476d2612ac6cb64de8e50ab455366556f1e92b"
 },
 "nbformat": 3,
 "nbformat_minor": 0,
 "worksheets": [
  {
   "cells": [
    {
     "cell_type": "markdown",
     "metadata": {},
     "source": [
      "To run this notebook you need need [mini-conda](http://conda.pydata.org/miniconda.html), pip, ipython notebook and matrixscreener:\n",
      "    \n",
      "```\n",
      "conda install pip\n",
      "conda install ipython-notebook\n",
      "pip install matrixscreener\n",
      "```\n",
      "\n",
      "Then you can run this notebook with debugging:\n",
      "```\n",
      "set DEBUG=matrixscreener\n",
      "ipython notebook\n",
      "```"
     ]
    },
    {
     "cell_type": "markdown",
     "metadata": {},
     "source": [
      "# Issues with Leica LAS X CAM\n",
      "\n",
      "1. The documentation explicit state that the full filename should be given upon load-command (page 44 of `M4--Documentation--CAM--Y014--18.11.pdf`), but this is wrong (same in old version, so this bug has existed some time). The command should omit \".xml\", and it then works. This is easily verified by sending the load-command with full filename, where the error-response states it could not find \"filename.xml.xml\". I guess this is an blunder, since the save command should give the full filename (\"filename.xml\" will save to \"filename.xml\", \"filename\" will save to \"filename\").\n",
      "\n",
      "2. There seems to be some cache issues with the load/save-commands. To reproduce the bug: Load a scanning template in the GUI, change some settings in GUI, send save-command through socket with same filename as the one loaded, the file is reported to be saved but contents and modification time does not change. A workaround is saving to another filename, then to the original filename, which overwrites the file, but does not update the XML with changes in GUI (can be verified by loading the template - the changes are gone). Does the LASAF load/save-code explicit sync to filesystem?\n",
      "\n",
      "3. The GUI sometimes totaly hangs (doesn't even render, see attached image). To reproduce this, have the socket open while doing a matrix scan. I guess this is because there is some socket-code in LASAF that is blocking, preventing the call stack to continue. It can be verified by closing the socket, the GUI will then render and become responsive again."
     ]
    },
    {
     "cell_type": "markdown",
     "metadata": {},
     "source": [
      "## Initialize and variables"
     ]
    },
    {
     "cell_type": "code",
     "collapsed": false,
     "input": [
      "import matrixscreener\n",
      "from matrixscreener.cam import CAM\n",
      "cam = CAM() # defaults to localhost:8895"
     ],
     "language": "python",
     "metadata": {},
     "outputs": []
    },
    {
     "cell_type": "code",
     "collapsed": false,
     "input": [
      "# monkeypatch debug for windows\n",
      "def debug(msg):\n",
      "    print(msg)\n",
      "matrixscreener.cam.debug = debug"
     ],
     "language": "python",
     "metadata": {},
     "outputs": [],
     "prompt_number": 14
    },
    {
     "cell_type": "code",
     "collapsed": false,
     "input": [
      "tmpl_path = b'C:\\Users\\TCS-User\\AppData\\Roaming\\Leica Microsystems\\LAS X\\MatrixScreener\\ScanningTemplates'\n",
      "tmpl_path = tmpl_path.decode()\n",
      "print(matrixscreener.VERSION, tmpl_path)"
     ],
     "language": "python",
     "metadata": {},
     "outputs": [
      {
       "output_type": "stream",
       "stream": "stdout",
       "text": [
        "0.5.2 C:\\Users\\TCS-User\\AppData\\Roaming\\Leica Microsystems\\LAS X\\MatrixScreener\\ScanningTemplates\n"
       ]
      }
     ],
     "prompt_number": 9
    },
    {
     "cell_type": "markdown",
     "metadata": {},
     "source": [
      "XML for experiment in use can be downloaded here: http://folk.ntnu.no/seljebu/master/leica_las_bugs/"
     ]
    },
    {
     "cell_type": "code",
     "collapsed": false,
     "input": [
      "# check that we are connected\n",
      "cam.get_information()"
     ],
     "language": "python",
     "metadata": {},
     "outputs": [
      {
       "output_type": "stream",
       "stream": "stdout",
       "text": [
        "flushing incomming socket messages\n",
        "b'> /cli:python-matrixscreener /app:matrix /cmd:getinfo /dev:stage'\n",
        "b'< /app:matrix /sys:0 /dev:stage /info_for:python-matrixscreener /unit:meter /xpos:0.057275791 /ypos:0.0292890573 /zpos:0\\r\\n/cli:python-matrixscreener /app:matrix /cmd:getinfo /dev:stage'"
       ]
      },
      {
       "output_type": "stream",
       "stream": "stdout",
       "text": [
        "\n"
       ]
      },
      {
       "metadata": {},
       "output_type": "pyout",
       "prompt_number": 17,
       "text": [
        "OrderedDict([('app', 'matrix'), ('sys', '0'), ('dev', 'stage'), ('info_for', 'python-matrixscreener'), ('unit', 'meter'), ('xpos', '0.057275791'), ('ypos', '0.0292890573'), ('zpos', '0')])"
       ]
      }
     ],
     "prompt_number": 17
    },
    {
     "cell_type": "markdown",
     "metadata": {},
     "source": [
      "## Demo of issue 1"
     ]
    },
    {
     "cell_type": "code",
     "collapsed": false,
     "input": [
      "# the file we are trying to load\n",
      "!dir \"$tmpl_path\""
     ],
     "language": "python",
     "metadata": {},
     "outputs": [
      {
       "output_type": "stream",
       "stream": "stdout",
       "text": [
        " Volume in drive C is Windows\n",
        " Volume Serial Number is 620C-DB4F\n",
        "\n",
        " Directory of C:\\Users\\TCS-User\\AppData\\Roaming\\Leica Microsystems\\LAS X\\MatrixScreener\\ScanningTemplates\n",
        "\n",
        "02/09/2015  08:46 PM    <DIR>          .\n",
        "02/09/2015  08:46 PM    <DIR>          ..\n",
        "02/09/2015  08:12 PM            38,990 {ScanningTemplate}whole.lrp\n",
        "02/09/2015  08:12 PM           254,139 {ScanningTemplate}whole.xml\n",
        "02/09/2015  08:31 PM            38,990 {ScanningTemplate}whole2.lrp\n",
        "02/09/2015  08:46 PM            58,462 {ScanningTemplate}whole2.xml\n",
        "02/09/2015  08:46 PM            58,462 {ScanningTemplate}whole2.xml1\n",
        "               5 File(s)        449,043 bytes\n",
        "               2 Dir(s)  82,973,286,400 bytes free\n"
       ]
      }
     ],
     "prompt_number": 11
    },
    {
     "cell_type": "code",
     "collapsed": false,
     "input": [
      "result = cam.load_template(filename='{ScanningTemplate}whole2.xml')\n",
      "# nothing happens in GUI - get error message in return\n",
      "print(result)"
     ],
     "language": "python",
     "metadata": {},
     "outputs": [
      {
       "output_type": "stream",
       "stream": "stdout",
       "text": [
        "flushing incomming socket messages\n",
        "b'> /cli:python-matrixscreener /app:matrix /sys:0 /cmd:load /fil:{ScanningTemplate}whole2.xml'\n",
        "b'< /err:file /inf:file not found /val:C:\\\\Users\\\\TCS-User\\\\AppData\\\\Roaming\\\\Leica Microsystems\\\\LAS X\\\\MatrixScreener\\\\ScanningTemplates\\\\{ScanningTemplate}whole2.xml.xml/cli:python-matrixscreener /app:matrix /sys:0 /cmd:load /fil:{ScanningTemplate}whole2.xml'"
       ]
      },
      {
       "output_type": "stream",
       "stream": "stdout",
       "text": [
        "\n",
        "[OrderedDict([('err', 'file'), ('inf', 'file not found'), ('val', 'C:\\\\Users\\\\TCS-User\\\\AppData\\\\Roaming\\\\Leica Microsystems\\\\LAS X\\\\MatrixScreener\\\\ScanningTemplates\\\\{ScanningTemplate}whole2.xml.xml/cli:python-matrixscreener'), ('app', 'matrix'), ('sys', '0'), ('cmd', 'load'), ('fil', '{ScanningTemplate}whole2.xml')])]\n"
       ]
      }
     ],
     "prompt_number": 18
    },
    {
     "cell_type": "code",
     "collapsed": false,
     "input": [
      "result = cam.load_template(filename='{ScanningTemplate}whole2')\n",
      "# GUI loads template - get echo in return\n",
      "print(result)"
     ],
     "language": "python",
     "metadata": {},
     "outputs": [
      {
       "output_type": "stream",
       "stream": "stdout",
       "text": [
        "flushing incomming socket messages\n",
        "b'> /cli:python-matrixscreener /app:matrix /sys:0 /cmd:load /fil:{ScanningTemplate}whole2'\n",
        "None"
       ]
      },
      {
       "output_type": "stream",
       "stream": "stdout",
       "text": [
        "\n"
       ]
      }
     ],
     "prompt_number": 20
    },
    {
     "cell_type": "code",
     "collapsed": false,
     "input": [
      "# timing issues (need more then 50ms)\n",
      "result = cam.receive()\n",
      "print(result)"
     ],
     "language": "python",
     "metadata": {},
     "outputs": [
      {
       "output_type": "stream",
       "stream": "stdout",
       "text": [
        "b'< /cli:python-matrixscreener /app:matrix /sys:0 /cmd:load /fil:{ScanningTemplate}whole2'\n",
        "[OrderedDict([('cli', 'python-matrixscreener'), ('app', 'matrix'), ('sys', '0'), ('cmd', 'load'), ('fil', '{ScanningTemplate}whole2')])]\n"
       ]
      }
     ],
     "prompt_number": 21
    },
    {
     "cell_type": "code",
     "collapsed": false,
     "input": [
      "cam.save_template(filename='{ScanningTemplate}test.xml')\n",
      "!dir \"$tmpl_path\"\n",
      "# saved to {ScanningTemplate}test.xml - size zero?"
     ],
     "language": "python",
     "metadata": {},
     "outputs": [
      {
       "output_type": "stream",
       "stream": "stdout",
       "text": [
        "flushing incomming socket messages\n",
        "b'> /cli:python-matrixscreener /app:matrix /sys:0 /cmd:save /fil:{ScanningTemplate}test.xml'\n"
       ]
      },
      {
       "output_type": "stream",
       "stream": "stdout",
       "text": [
        " Volume in drive C is Windows\n",
        " Volume Serial Number is 620C-DB4F\n",
        "\n",
        " Directory of C:\\Users\\TCS-User\\AppData\\Roaming\\Leica Microsystems\\LAS X\\MatrixScreener\\ScanningTemplates\n",
        "\n",
        "02/19/2015  04:33 PM    <DIR>          .\n",
        "02/19/2015  04:33 PM    <DIR>          ..\n",
        "02/19/2015  04:33 PM                 0 {ScanningTemplate}test.xml\n",
        "02/09/2015  08:12 PM            38,990 {ScanningTemplate}whole.lrp\n",
        "02/09/2015  08:12 PM           254,139 {ScanningTemplate}whole.xml\n",
        "02/09/2015  08:31 PM            38,990 {ScanningTemplate}whole2.lrp\n",
        "02/09/2015  08:46 PM            58,462 {ScanningTemplate}whole2.xml\n",
        "02/09/2015  08:46 PM            58,462 {ScanningTemplate}whole2.xml1\n",
        "               6 File(s)        449,043 bytes\n",
        "               2 Dir(s)  82,972,856,320 bytes free\n"
       ]
      }
     ],
     "prompt_number": 23
    },
    {
     "cell_type": "code",
     "collapsed": false,
     "input": [
      "!dir \"$tmpl_path\"\n",
      "# now it is written :-)"
     ],
     "language": "python",
     "metadata": {},
     "outputs": [
      {
       "output_type": "stream",
       "stream": "stdout",
       "text": [
        " Volume in drive C is Windows\n",
        " Volume Serial Number is 620C-DB4F\n",
        "\n",
        " Directory of C:\\Users\\TCS-User\\AppData\\Roaming\\Leica Microsystems\\LAS X\\MatrixScreener\\ScanningTemplates\n",
        "\n",
        "02/19/2015  04:33 PM    <DIR>          .\n",
        "02/19/2015  04:33 PM    <DIR>          ..\n",
        "02/19/2015  04:33 PM            58,464 {ScanningTemplate}test.xml\n",
        "02/09/2015  08:12 PM            38,990 {ScanningTemplate}whole.lrp\n",
        "02/09/2015  08:12 PM           254,139 {ScanningTemplate}whole.xml\n",
        "02/09/2015  08:31 PM            38,990 {ScanningTemplate}whole2.lrp\n",
        "02/09/2015  08:46 PM            58,462 {ScanningTemplate}whole2.xml\n",
        "02/09/2015  08:46 PM            58,462 {ScanningTemplate}whole2.xml1\n",
        "               6 File(s)        507,507 bytes\n",
        "               2 Dir(s)  82,972,852,224 bytes free\n"
       ]
      }
     ],
     "prompt_number": 25
    },
    {
     "cell_type": "markdown",
     "metadata": {},
     "source": [
      "## Demo of issue 2"
     ]
    },
    {
     "cell_type": "markdown",
     "metadata": {},
     "source": [
      "We've already loaded experiment `{ScanningTemplate}whole2.xml`.\n",
      "\n",
      "In GUI:\n",
      "- offset field x:2 y:1\n",
      "\n",
      "In notebook\n",
      "- run code block below (save template)"
     ]
    },
    {
     "cell_type": "code",
     "collapsed": false,
     "input": [
      "from time import sleep\n",
      "!dir \"$tmpl_path\"\n",
      "# save to same name as before\n",
      "cam.save_template(filename='{ScanningTemplate}whole2.xml')\n",
      "sleep(1) # sleep 1 second\n",
      "# time changed -> ergo its written / unable to replicate earlier error (xml did not get saved when saving to same name)\n",
      "!dir \"$tmpl_path\""
     ],
     "language": "python",
     "metadata": {},
     "outputs": [
      {
       "output_type": "stream",
       "stream": "stdout",
       "text": [
        " Volume in drive C is Windows\n",
        " Volume Serial Number is 620C-DB4F\n",
        "\n",
        " Directory of C:\\Users\\TCS-User\\AppData\\Roaming\\Leica Microsystems\\LAS X\\MatrixScreener\\ScanningTemplates\n",
        "\n",
        "02/19/2015  04:39 PM    <DIR>          .\n",
        "02/19/2015  04:39 PM    <DIR>          ..\n",
        "02/19/2015  04:39 PM            58,524 {ScanningTemplate}test.xml\n",
        "02/09/2015  08:12 PM            38,990 {ScanningTemplate}whole.lrp\n",
        "02/09/2015  08:12 PM           254,139 {ScanningTemplate}whole.xml\n",
        "02/09/2015  08:31 PM            38,990 {ScanningTemplate}whole2.lrp\n",
        "02/19/2015  04:39 PM            58,524 {ScanningTemplate}whole2.xml\n",
        "02/09/2015  08:46 PM            58,462 {ScanningTemplate}whole2.xml1\n",
        "               6 File(s)        507,629 bytes\n",
        "               2 Dir(s)  82,972,057,600 bytes free\n",
        "flushing incomming socket messages\n",
        "b'< /app:matrix /sys:0 /inf:scanfinished_by_user\\r\\n'\n",
        "b'> /cli:python-matrixscreener /app:matrix /sys:0 /cmd:save /fil:{ScanningTemplate}whole2.xml'\n",
        "b'< /save:{ScanningTemplate}whole2.xml /inf:XML file successfully saved/cli:python-matrixscreener /app:matrix /sys:0 /cmd:save /fil:{ScanningTemplate}whole2.xml'"
       ]
      },
      {
       "output_type": "stream",
       "stream": "stdout",
       "text": [
        "\n"
       ]
      },
      {
       "output_type": "stream",
       "stream": "stdout",
       "text": [
        " Volume in drive C is Windows\n",
        " Volume Serial Number is 620C-DB4F\n",
        "\n",
        " Directory of C:\\Users\\TCS-User\\AppData\\Roaming\\Leica Microsystems\\LAS X\\MatrixScreener\\ScanningTemplates\n",
        "\n",
        "02/19/2015  04:42 PM    <DIR>          .\n",
        "02/19/2015  04:42 PM    <DIR>          ..\n",
        "02/19/2015  04:39 PM            58,524 {ScanningTemplate}test.xml\n",
        "02/09/2015  08:12 PM            38,990 {ScanningTemplate}whole.lrp\n",
        "02/09/2015  08:12 PM           254,139 {ScanningTemplate}whole.xml\n",
        "02/09/2015  08:31 PM            38,990 {ScanningTemplate}whole2.lrp\n",
        "02/19/2015  04:42 PM            58,509 {ScanningTemplate}whole2.xml\n",
        "02/09/2015  08:46 PM            58,462 {ScanningTemplate}whole2.xml1\n",
        "               6 File(s)        507,614 bytes\n",
        "               2 Dir(s)  82,971,996,160 bytes free\n"
       ]
      }
     ],
     "prompt_number": 29
    },
    {
     "cell_type": "markdown",
     "metadata": {},
     "source": [
      "Now reload the saved file with the code block below."
     ]
    },
    {
     "cell_type": "code",
     "collapsed": false,
     "input": [
      "# load another to force reload of template",
      "cam.load_template(filename='{ScanningTemplate}whole')\n",
      "sleep(20) # wait for it to load\n",
      "cam.load_template(filename='{ScanningTemplate}whole2')\n",
      "# GUI updates"
     ],
     "language": "python",
     "metadata": {},
     "outputs": [
      {
       "output_type": "stream",
       "stream": "stdout",
       "text": [
        "flushing incomming socket messages\n",
        "b'< /app:matrix /sys:0 /inf:scanfinished_by_user\\r\\n'\n",
        "b'> /cli:python-matrixscreener /app:matrix /sys:0 /cmd:load /fil:{ScanningTemplate}whole'\n",
        "flushing incomming socket messages"
       ]
      },
      {
       "output_type": "stream",
       "stream": "stdout",
       "text": [
        "\n",
        "b'< /cli:python-matrixscreener /app:matrix /sys:0 /cmd:load /fil:{ScanningTemplate}whole'\n",
        "b'> /cli:python-matrixscreener /app:matrix /sys:0 /cmd:load /fil:{ScanningTemplate}whole2'\n"
       ]
      }
     ],
     "prompt_number": 32
    },
    {
     "cell_type": "code",
     "collapsed": false,
     "input": [
      "print(cam.receive())"
     ],
     "language": "python",
     "metadata": {},
     "outputs": [
      {
       "output_type": "stream",
       "stream": "stdout",
       "text": [
        "b'< /cli:python-matrixscreener /app:matrix /sys:0 /cmd:load /fil:{ScanningTemplate}whole2'\n",
        "[OrderedDict([('cli', 'python-matrixscreener'), ('app', 'matrix'), ('sys', '0'), ('cmd', 'load'), ('fil', '{ScanningTemplate}whole2')])]\n"
       ]
      }
     ],
     "prompt_number": 31
    },
    {
     "cell_type": "markdown",
     "metadata": {},
     "source": [
      "Go field 2,1 and check position: offset is not saved."
     ]
    },
    {
     "cell_type": "markdown",
     "metadata": {},
     "source": [
      "## Demo of issue 3"
     ]
    },
    {
     "cell_type": "code",
     "collapsed": false,
     "input": [
      "# start a matrix scan\n",
      "cam.load_template(filename='{ScanningTemplate}whole')\n",
      "sleep(10)\n",
      "cam.start_scan()"
     ],
     "language": "python",
     "metadata": {},
     "outputs": [
      {
       "output_type": "stream",
       "stream": "stdout",
       "text": [
        "flushing incomming socket messages\n",
        "b'< /cli:python-matrixscreener /app:matrix /sys:0 /cmd:load /fil:{ScanningTemplate}whole2/app:matrix /sys:0 /inf:scanfinished_by_user\\r\\n/app:matrix /sys:0 /inf:scanfinished_by_user\\r\\n'\n",
        "b'> /cli:python-matrixscreener /app:matrix /sys:0 /cmd:load /fil:{ScanningTemplate}whole'\n",
        "flushing incomming socket messages"
       ]
      },
      {
       "output_type": "stream",
       "stream": "stdout",
       "text": [
        "\n",
        "b'< /cli:python-matrixscreener /app:matrix /sys:0 /cmd:load /fil:{ScanningTemplate}whole'\n",
        "b'> /cli:python-matrixscreener /app:matrix /cmd:startscan'\n"
       ]
      }
     ],
     "prompt_number": 33
    },
    {
     "cell_type": "code",
     "collapsed": false,
     "input": [
      "# wait for interface to lock\n",
      "# try flushing incoming socket messages\n",
      "cam.flush()"
     ],
     "language": "python",
     "metadata": {},
     "outputs": [
      {
       "output_type": "stream",
       "stream": "stdout",
       "text": [
        "flushing incomming socket messages\n",
        "b'< /app:matrix /sys:0 /inf:scanstart\\r\\n/cli:python-matrixscreener /app:matrix /cmd:startscan/relpath:\\\\3.3.0_9757\\\\experiment--2015_02_19_15_48_03\\\\slide--S00\\\\chamber--U00--V00\\\\field--X00--Y00\\\\image--L0000--S00--U00--V00--J20--E00--O00--X00--Y00--T0000--Z00--C00.ome.tif /jobname:Job 8\\r\\n/relpath:\\\\3.3.0_9757\\\\experiment--2015_02_19_15_48_03\\\\slide--S00\\\\chamber--U00--V00\\\\field--X01--Y00\\\\image--L0000--S00--U00--V00--J20--E00--O00--X01--Y00--T0000--Z00--C00.ome.tif /jobname:Job 8\\r\\n/relpath:\\\\3.3.0_9757\\\\experiment--2015_02_19_15_48_03\\\\slide--S00\\\\chamber--U00--V00\\\\field--X02--Y00\\\\image--L0000--S00--U00--V00--J20--E00--O00--X02--Y00--T0000--Z00--C00.ome.tif /jobname:Job 8\\r\\n/relpath:\\\\3.3.0_9757\\\\experiment--2015_02_19_15_48_03\\\\slide--S00\\\\chamber--U00--V00\\\\field--X03--Y00\\\\image--L0000--S00--U00--V00--J20--E00--O00--X03--Y00--T0000--Z00--C00.ome.tif /jobname:Job 8\\r\\n/relpath:\\\\3.3.0_9757\\\\experiment--2015_02_19_15_48_03\\\\slide--S00\\\\chamber--U00--V00\\\\field--X04--Y00\\\\image--L0000--S00--U00--V00--J20--E00--O00--X04--Y00--T0000--Z00--C00.'\n",
        "b'< ome.tif /jobname:Job 8\\r\\n/relpath:\\\\3.3.0_9757\\\\experiment--2015_02_19_15_48_03\\\\slide--S00\\\\chamber--U00--V00\\\\field--X05--Y00\\\\image--L0000--S00--U00--V00--J20--E00--O00--X05--Y00--T0000--Z00--C00.ome.tif /jobname:Job 8\\r\\n/relpath:\\\\3.3.0_9757\\\\experiment--2015_02_19_15_48_03\\\\slide--S00\\\\chamber--U00--V00\\\\field--X06--Y00\\\\image--L0000--S00--U00--V00--J20--E00--O00--X06--Y00--T0000--Z00--C00.ome.tif /jobname:Job 8\\r\\n/relpath:\\\\3.3.0_9757\\\\experiment--2015_02_19_15_48_03\\\\slide--S00\\\\chamber--U00--V00\\\\field--X07--Y00\\\\image--L0000--S00--U00--V00--J20--E00--O00--X07--Y00--T0000--Z00--C00.ome.tif /jobname:Job 8\\r\\n/relpath:\\\\3.3.0_9757\\\\experiment--2015_02_19_15_48_03\\\\slide--S00\\\\chamber--U00--V00\\\\field--X08--Y00\\\\image--L0000--S00--U00--V00--J20--E00--O00--X08--Y00--T0000--Z00--C00.ome.tif /jobname:Job 8\\r\\n/relpath:\\\\3.3.0_9757\\\\experiment--2015_02_19_15_48_03\\\\slide--S00\\\\chamber--U00--V00\\\\field--X09--Y00\\\\image--L0000--S00--U00--V00--J20--E00--O00--X09--Y00--T0000--Z00--C00.ome.tif /jobname:Job 8\\r\\n/relpath:\\\\3.3.0_9757\\\\experiment--2015_02'\n",
        "b'< _19_15_48_03\\\\slide--S00\\\\chamber--U00--V00\\\\field--X10--Y00\\\\image--L0000--S00--U00--V00--J20--E00--O00--X10--Y00--T0000--Z00--C00.ome.tif /jobname:Job 8\\r\\n/relpath:\\\\3.3.0_9757\\\\experiment--2015_02_19_15_48_03\\\\slide--S00\\\\chamber--U00--V00\\\\field--X11--Y00\\\\image--L0000--S00--U00--V00--J20--E00--O00--X11--Y00--T0000--Z00--C00.ome.tif /jobname:Job 8\\r\\n/relpath:\\\\3.3.0_9757\\\\experiment--2015_02_19_15_48_03\\\\slide--S00\\\\chamber--U00--V00\\\\field--X12--Y00\\\\image--L0000--S00--U00--V00--J20--E00--O00--X12--Y00--T0000--Z00--C00.ome.tif /jobname:Job 8\\r\\n/relpath:\\\\3.3.0_9757\\\\experiment--2015_02_19_15_48_03\\\\slide--S00\\\\chamber--U00--V00\\\\field--X13--Y00\\\\image--L0000--S00--U00--V00--J20--E00--O00--X13--Y00--T0000--Z00--C00.ome.tif /jobname:Job 8\\r\\n/relpath:\\\\3.3.0_9757\\\\experiment--2015_02_19_15_48_03\\\\slide--S00\\\\chamber--U00--V00\\\\field--X14--Y00\\\\image--L0000--S00--U00--V00--J20--E00--O00--X14--Y00--T0000--Z00--C00.ome.tif /jobname:Job 8\\r\\n/relpath:\\\\3.3.0_9757\\\\experiment--2015_02_19_15_48_03\\\\slide--S00\\\\chamber--U00--V00\\\\field--X15--Y00\\\\image-'\n",
        "b'< -L0000--S00--U00--V00--J20--E00--O00--X15--Y00--T0000--Z00--C00.ome.tif /jobname:Job 8\\r\\n/relpath:\\\\3.3.0_9757\\\\experiment--2015_02_19_15_48_03\\\\slide--S00\\\\chamber--U00--V00\\\\field--X16--Y00\\\\image--L0000--S00--U00--V00--J20--E00--O00--X16--Y00--T0000--Z00--C00.ome.tif /jobname:Job 8\\r\\n/relpath:\\\\3.3.0_9757\\\\experiment--2015_02_19_15_48_03\\\\slide--S00\\\\chamber--U00--V00\\\\field--X17--Y00\\\\image--L0000--S00--U00--V00--J20--E00--O00--X17--Y00--T0000--Z00--C00.ome.tif /jobname:Job 8\\r\\n/relpath:\\\\3.3.0_9757\\\\experiment--2015_02_19_15_48_03\\\\slide--S00\\\\chamber--U00--V00\\\\field--X18--Y00\\\\image--L0000--S00--U00--V00--J20--E00--O00--X18--Y00--T0000--Z00--C00.ome.tif /jobname:Job 8\\r\\n/relpath:\\\\3.3.0_9757\\\\experiment--2015_02_19_15_48_03\\\\slide--S00\\\\chamber--U00--V00\\\\field--X19--Y00\\\\image--L0000--S00--U00--V00--J20--E00--O00--X19--Y00--T0000--Z00--C00.ome.tif /jobname:Job 8\\r\\n/relpath:\\\\3.3.0_9757\\\\experiment--2015_02_19_15_48_03\\\\slide--S00\\\\chamber--U00--V00\\\\field--X19--Y01\\\\image--L0000--S00--U00--V00--J20--E00--O00--X19--Y01--T0000--Z00--C00.'\n",
        "b'< ome.tif /jobname:Job 8\\r\\n/relpath:\\\\3.3.0_9757\\\\experiment--2015_02_19_15_48_03\\\\slide--S00\\\\chamber--U00--V00\\\\field--X18--Y01\\\\image--L0000--S00--U00--V00--J20--E00--O00--X18--Y01--T0000--Z00--C00.ome.tif /jobname:Job 8\\r\\n/relpath:\\\\3.3.0_9757\\\\experiment--2015_02_19_15_48_03\\\\slide--S00\\\\chamber--U00--V00\\\\field--X17--Y01\\\\image--L0000--S00--U00--V00--J20--E00--O00--X17--Y01--T0000--Z00--C00.ome.tif /jobname:Job 8\\r\\n/relpath:\\\\3.3.0_9757\\\\experiment--2015_02_19_15_48_03\\\\slide--S00\\\\chamber--U00--V00\\\\field--X16--Y01\\\\image--L0000--S00--U00--V00--J20--E00--O00--X16--Y01--T0000--Z00--C00.ome.tif /jobname:Job 8\\r\\n/relpath:\\\\3.3.0_9757\\\\experiment--2015_02_19_15_48_03\\\\slide--S00\\\\chamber--U00--V00\\\\field--X15--Y01\\\\image--L0000--S00--U00--V00--J20--E00--O00--X15--Y01--T0000--Z00--C00.ome.tif /jobname:Job 8\\r\\n/relpath:\\\\3.3.0_9757\\\\experiment--2015_02_19_15_48_03\\\\slide--S00\\\\chamber--U00--V00\\\\field--X14--Y01\\\\image--L0000--S00--U00--V00--J20--E00--O00--X14--Y01--T0000--Z00--C00.ome.tif /jobname:Job 8\\r\\n/relpath:\\\\3.3.0_9757\\\\experiment--2015_02'\n",
        "b'< _19_15_48_03\\\\slide--S00\\\\chamber--U00--V00\\\\field--X13--Y01\\\\image--L0000--S00--U00--V00--J20--E00--O00--X13--Y01--T0000--Z00--C00.ome.tif /jobname:Job 8\\r\\n/relpath:\\\\3.3.0_9757\\\\experiment--2015_02_19_15_48_03\\\\slide--S00\\\\chamber--U00--V00\\\\field--X12--Y01\\\\image--L0000--S00--U00--V00--J20--E00--O00--X12--Y01--T0000--Z00--C00.ome.tif /jobname:Job 8\\r\\n/relpath:\\\\3.3.0_9757\\\\experiment--2015_02_19_15_48_03\\\\slide--S00\\\\chamber--U00--V00\\\\field--X11--Y01\\\\image--L0000--S00--U00--V00--J20--E00--O00--X11--Y01--T0000--Z00--C00.ome.tif /jobname:Job 8\\r\\n/relpath:\\\\3.3.0_9757\\\\experiment--2015_02_19_15_48_03\\\\slide--S00\\\\chamber--U00--V00\\\\field--X10--Y01\\\\image--L0000--S00--U00--V00--J20--E00--O00--X10--Y01--T0000--Z00--C00.ome.tif /jobname:Job 8\\r\\n/relpath:\\\\3.3.0_9757\\\\experiment--2015_02_19_15_48_03\\\\slide--S00\\\\chamber--U00--V00\\\\field--X09--Y01\\\\image--L0000--S00--U00--V00--J20--E00--O00--X09--Y01--T0000--Z00--C00.ome.tif /jobname:Job 8\\r\\n/relpath:\\\\3.3.0_9757\\\\experiment--2015_02_19_15_48_03\\\\slide--S00\\\\chamber--U00--V00\\\\field--X08--Y01\\\\image-'\n",
        "b'< -L0000--S00--U00--V00--J20--E00--O00--X08--Y01--T0000--Z00--C00.ome.tif /jobname:Job 8\\r\\n/relpath:\\\\3.3.0_9757\\\\experiment--2015_02_19_15_48_03\\\\slide--S00\\\\chamber--U00--V00\\\\field--X07--Y01\\\\image--L0000--S00--U00--V00--J20--E00--O00--X07--Y01--T0000--Z00--C00.ome.tif /jobname:Job 8\\r\\n/relpath:\\\\3.3.0_9757\\\\experiment--2015_02_19_15_48_03\\\\slide--S00\\\\chamber--U00--V00\\\\field--X06--Y01\\\\image--L0000--S00--U00--V00--J20--E00--O00--X06--Y01--T0000--Z00--C00.ome.tif /jobname:Job 8\\r\\n/relpath:\\\\3.3.0_9757\\\\experiment--2015_02_19_15_48_03\\\\slide--S00\\\\chamber--U00--V00\\\\field--X05--Y01\\\\image--L0000--S00--U00--V00--J20--E00--O00--X05--Y01--T0000--Z00--C00.ome.tif /jobname:Job 8\\r\\n/relpath:\\\\3.3.0_9757\\\\experiment--2015_02_19_15_48_03\\\\slide--S00\\\\chamber--U00--V00\\\\field--X04--Y01\\\\image--L0000--S00--U00--V00--J20--E00--O00--X04--Y01--T0000--Z00--C00.ome.tif /jobname:Job 8\\r\\n/relpath:\\\\3.3.0_9757\\\\experiment--2015_02_19_15_48_03\\\\slide--S00\\\\chamber--U00--V00\\\\field--X03--Y01\\\\image--L0000--S00--U00--V00--J20--E00--O00--X03--Y01--T0000--Z00--C00.'\n",
        "b'< ome.tif /jobname:Job 8\\r\\n/relpath:\\\\3.3.0_9757\\\\experiment--2015_02_19_15_48_03\\\\slide--S00\\\\chamber--U00--V00\\\\field--X02--Y01\\\\image--L0000--S00--U00--V00--J20--E00--O00--X02--Y01--T0000--Z00--C00.ome.tif /jobname:Job 8\\r\\n/relpath:\\\\3.3.0_9757\\\\experiment--2015_02_19_15_48_03\\\\slide--S00\\\\chamber--U00--V00\\\\field--X01--Y01\\\\image--L0000--S00--U00--V00--J20--E00--O00--X01--Y01--T0000--Z00--C00.ome.tif /jobname:Job 8\\r\\n/relpath:\\\\3.3.0_9757\\\\experiment--2015_02_19_15_48_03\\\\slide--S00\\\\chamber--U00--V00\\\\field--X00--Y01\\\\image--L0000--S00--U00--V00--J20--E00--O00--X00--Y01--T0000--Z00--C00.ome.tif /jobname:Job 8\\r\\n/relpath:\\\\3.3.0_9757\\\\experiment--2015_02_19_15_48_03\\\\slide--S00\\\\chamber--U00--V00\\\\field--X00--Y02\\\\image--L0000--S00--U00--V00--J20--E00--O00--X00--Y02--T0000--Z00--C00.ome.tif /jobname:Job 8\\r\\n/relpath:\\\\3.3.0_9757\\\\experiment--2015_02_19_15_48_03\\\\slide--S00\\\\chamber--U00--V00\\\\field--X01--Y02\\\\image--L0000--S00--U00--V00--J20--E00--O00--X01--Y02--T0000--Z00--C00.ome.tif /jobname:Job 8\\r\\n/relpath:\\\\3.3.0_9757\\\\experiment--2015_02'\n",
        "b'< _19_15_48_03\\\\slide--S00\\\\chamber--U00--V00\\\\field--X02--Y02\\\\image--L0000--S00--U00--V00--J20--E00--O00--X02--Y02--T0000--Z00--C00.ome.tif /jobname:Job 8\\r\\n/relpath:\\\\3.3.0_9757\\\\experiment--2015_02_19_15_48_03\\\\slide--S00\\\\chamber--U00--V00\\\\field--X03--Y02\\\\image--L0000--S00--U00--V00--J20--E00--O00--X03--Y02--T0000--Z00--C00.ome.tif /jobname:Job 8\\r\\n/relpath:\\\\3.3.0_9757\\\\experiment--2015_02_19_15_48_03\\\\slide--S00\\\\chamber--U00--V00\\\\field--X04--Y02\\\\image--L0000--S00--U00--V00--J20--E00--O00--X04--Y02--T0000--Z00--C00.ome.tif /jobname:Job 8\\r\\n/relpath:\\\\3.3.0_9757\\\\experiment--2015_02_19_15_48_03\\\\slide--S00\\\\chamber--U00--V00\\\\field--X05--Y02\\\\image--L0000--S00--U00--V00--J20--E00--O00--X05--Y02--T0000--Z00--C00.ome.tif /jobname:Job 8\\r\\n/relpath:\\\\3.3.0_9757\\\\experiment--2015_02_19_15_48_03\\\\slide--S00\\\\chamber--U00--V00\\\\field--X06--Y02\\\\image--L0000--S00--U00--V00--J20--E00--O00--X06--Y02--T0000--Z00--C00.ome.tif /jobname:Job 8\\r\\n/relpath:\\\\3.3.0_9757\\\\experiment--2015_02_19_15_48_03\\\\slide--S00\\\\chamber--U00--V00\\\\field--X07--Y02\\\\image-'\n",
        "b'< -L0000--S00--U00--V00--J20--E00--O00--X07--Y02--T0000--Z00--C00.ome.tif /jobname:Job 8\\r\\n/relpath:\\\\3.3.0_9757\\\\experiment--2015_02_19_15_48_03\\\\slide--S00\\\\chamber--U00--V00\\\\field--X08--Y02\\\\image--L0000--S00--U00--V00--J20--E00--O00--X08--Y02--T0000--Z00--C00.ome.tif /jobname:Job 8\\r\\n/relpath:\\\\3.3.0_9757\\\\experiment--2015_02_19_15_48_03\\\\slide--S00\\\\chamber--U00--V00\\\\field--X09--Y02\\\\image--L0000--S00--U00--V00--J20--E00--O00--X09--Y02--T0000--Z00--C00.ome.tif /jobname:Job 8\\r\\n/relpath:\\\\3.3.0_9757\\\\experiment--2015_02_19_15_48_03\\\\slide--S00\\\\chamber--U00--V00\\\\field--X10--Y02\\\\image--L0000--S00--U00--V00--J20--E00--O00--X10--Y02--T0000--Z00--C00.ome.tif /jobname:Job 8\\r\\n/relpath:\\\\3.3.0_9757\\\\experiment--2015_02_19_15_48_03\\\\slide--S00\\\\chamber--U00--V00\\\\field--X11--Y02\\\\image--L0000--S00--U00--V00--J20--E00--O00--X11--Y02--T0000--Z00--C00.ome.tif /jobname:Job 8\\r\\n/relpath:\\\\3.3.0_9757\\\\experiment--2015_02_19_15_48_03\\\\slide--S00\\\\chamber--U00--V00\\\\field--X12--Y02\\\\image--L0000--S00--U00--V00--J20--E00--O00--X12--Y02--T0000--Z00--C00.'\n",
        "b'< ome.tif /jobname:Job 8\\r\\n/relpath:\\\\3.3.0_9757\\\\experiment--2015_02_19_15_48_03\\\\slide--S00\\\\chamber--U00--V00\\\\field--X13--Y02\\\\image--L0000--S00--U00--V00--J20--E00--O00--X13--Y02--T0000--Z00--C00.ome.tif /jobname:Job 8\\r\\n/relpath:\\\\3.3.0_9757\\\\experiment--2015_02_19_15_48_03\\\\slide--S00\\\\chamber--U00--V00\\\\field--X14--Y02\\\\image--L0000--S00--U00--V00--J20--E00--O00--X14--Y02--T0000--Z00--C00.ome.tif /jobname:Job 8\\r\\n/relpath:\\\\3.3.0_9757\\\\experiment--2015_02_19_15_48_03\\\\slide--S00\\\\chamber--U00--V00\\\\field--X15--Y02\\\\image--L0000--S00--U00--V00--J20--E00--O00--X15--Y02--T0000--Z00--C00.ome.tif /jobname:Job 8\\r\\n/relpath:\\\\3.3.0_9757\\\\experiment--2015_02_19_15_48_03\\\\slide--S00\\\\chamber--U00--V00\\\\field--X16--Y02\\\\image--L0000--S00--U00--V00--J20--E00--O00--X16--Y02--T0000--Z00--C00.ome.tif /jobname:Job 8\\r\\n/relpath:\\\\3.3.0_9757\\\\experiment--2015_02_19_15_48_03\\\\slide--S00\\\\chamber--U00--V00\\\\field--X17--Y02\\\\image--L0000--S00--U00--V00--J20--E00--O00--X17--Y02--T0000--Z00--C00.ome.tif /jobname:Job 8\\r\\n/relpath:\\\\3.3.0_9757\\\\experiment--2015_02'\n",
        "b'< _19_15_48_03\\\\slide--S00\\\\chamber--U00--V00\\\\field--X18--Y02\\\\image--L0000--S00--U00--V00--J20--E00--O00--X18--Y02--T0000--Z00--C00.ome.tif /jobname:Job 8\\r\\n/relpath:\\\\3.3.0_9757\\\\experiment--2015_02_19_15_48_03\\\\slide--S00\\\\chamber--U00--V00\\\\field--X19--Y02\\\\image--L0000--S00--U00--V00--J20--E00--O00--X19--Y02--T0000--Z00--C00.ome.tif /jobname:Job 8\\r\\n/relpath:\\\\3.3.0_9757\\\\experiment--2015_02_19_15_48_03\\\\slide--S00\\\\chamber--U00--V00\\\\field--X19--Y03\\\\image--L0000--S00--U00--V00--J20--E00--O00--X19--Y03--T0000--Z00--C00.ome.tif /jobname:Job 8\\r\\n/relpath:\\\\3.3.0_9757\\\\experiment--2015_02_19_15_48_03\\\\slide--S00\\\\chamber--U00--V00\\\\field--X18--Y03\\\\image--L0000--S00--U00--V00--J20--E00--O00--X18--Y03--T0000--Z00--C00.ome.tif /jobname:Job 8\\r\\n/relpath:\\\\3.3.0_9757\\\\experiment--2015_02_19_15_48_03\\\\slide--S00\\\\chamber--U00--V00\\\\field--X17--Y03\\\\image--L0000--S00--U00--V00--J20--E00--O00--X17--Y03--T0000--Z00--C00.ome.tif /jobname:Job 8\\r\\n/relpath:\\\\3.3.0_9757\\\\experiment--2015_02_19_15_48_03\\\\slide--S00\\\\chamber--U00--V00\\\\field--X16--Y03\\\\image-'\n",
        "b'< -L0000--S00--U00--V00--J20--E00--O00--X16--Y03--T0000--Z00--C00.ome.tif /jobname:Job 8\\r\\n/relpath:\\\\3.3.0_9757\\\\experiment--2015_02_19_15_48_03\\\\slide--S00\\\\chamber--U00--V00\\\\field--X15--Y03\\\\image--L0000--S00--U00--V00--J20--E00--O00--X15--Y03--T0000--Z00--C00.ome.tif /jobname:Job 8\\r\\n/relpath:\\\\3.3.0_9757\\\\experiment--2015_02_19_15_48_03\\\\slide--S00\\\\chamber--U00--V00\\\\field--X14--Y03\\\\image--L0000--S00--U00--V00--J20--E00--O00--X14--Y03--T0000--Z00--C00.ome.tif /jobname:Job 8\\r\\n/relpath:\\\\3.3.0_9757\\\\experiment--2015_02_19_15_48_03\\\\slide--S00\\\\chamber--U00--V00\\\\field--X13--Y03\\\\image--L0000--S00--U00--V00--J20--E00--O00--X13--Y03--T0000--Z00--C00.ome.tif /jobname:Job 8\\r\\n/relpath:\\\\3.3.0_9757\\\\experiment--2015_02_19_15_48_03\\\\slide--S00\\\\chamber--U00--V00\\\\field--X12--Y03\\\\image--L0000--S00--U00--V00--J20--E00--O00--X12--Y03--T0000--Z00--C00.ome.tif /jobname:Job 8\\r\\n/relpath:\\\\3.3.0_9757\\\\experiment--2015_02_19_15_48_03\\\\slide--S00\\\\chamber--U00--V00\\\\field--X11--Y03\\\\image--L0000--S00--U00--V00--J20--E00--O00--X11--Y03--T0000--Z00--C00.'\n",
        "b'< ome.tif /jobname:Job 8\\r\\n/relpath:\\\\3.3.0_9757\\\\experiment--2015_02_19_15_48_03\\\\slide--S00\\\\chamber--U00--V00\\\\field--X10--Y03\\\\image--L0000--S00--U00--V00--J20--E00--O00--X10--Y03--T0000--Z00--C00.ome.tif /jobname:Job 8\\r\\n/relpath:\\\\3.3.0_9757\\\\experiment--2015_02_19_15_48_03\\\\slide--S00\\\\chamber--U00--V00\\\\field--X09--Y03\\\\image--L0000--S00--U00--V00--J20--E00--O00--X09--Y03--T0000--Z00--C00.ome.tif /jobname:Job 8\\r\\n/relpath:\\\\3.3.0_9757\\\\experiment--2015_02_19_15_48_03\\\\slide--S00\\\\chamber--U00--V00\\\\field--X08--Y03\\\\image--L0000--S00--U00--V00--J20--E00--O00--X08--Y03--T0000--Z00--C00.ome.tif /jobname:Job 8\\r\\n/relpath:\\\\3.3.0_9757\\\\experiment--2015_02_19_15_48_03\\\\slide--S00\\\\chamber--U00--V00\\\\field--X07--Y03\\\\image--L0000--S00--U00--V00--J20--E00--O00--X07--Y03--T0000--Z00--C00.ome.tif /jobname:Job 8\\r\\n/relpath:\\\\3.3.0_9757\\\\experiment--2015_02_19_15_48_03\\\\slide--S00\\\\chamber--U00--V00\\\\field--X06--Y03\\\\image--L0000--S00--U00--V00--J20--E00--O00--X06--Y03--T0000--Z00--C00.ome.tif /jobname:Job 8\\r\\n/relpath:\\\\3.3.0_9757\\\\experiment--2015_02'\n",
        "b'< _19_15_48_03\\\\slide--S00\\\\chamber--U00--V00\\\\field--X05--Y03\\\\image--L0000--S00--U00--V00--J20--E00--O00--X05--Y03--T0000--Z00--C00.ome.tif /jobname:Job 8\\r\\n/relpath:\\\\3.3.0_9757\\\\experiment--2015_02_19_15_48_03\\\\slide--S00\\\\chamber--U00--V00\\\\field--X04--Y03\\\\image--L0000--S00--U00--V00--J20--E00--O00--X04--Y03--T0000--Z00--C00.ome.tif /jobname:Job 8\\r\\n/relpath:\\\\3.3.0_9757\\\\experiment--2015_02_19_15_48_03\\\\slide--S00\\\\chamber--U00--V00\\\\field--X03--Y03\\\\image--L0000--S00--U00--V00--J20--E00--O00--X03--Y03--T0000--Z00--C00.ome.tif /jobname:Job 8\\r\\n/relpath:\\\\3.3.0_9757\\\\experiment--2015_02_19_15_48_03\\\\slide--S00\\\\chamber--U00--V00\\\\field--X02--Y03\\\\image--L0000--S00--U00--V00--J20--E00--O00--X02--Y03--T0000--Z00--C00.ome.tif /jobname:Job 8\\r\\n/relpath:\\\\3.3.0_9757\\\\experiment--2015_02_19_15_48_03\\\\slide--S00\\\\chamber--U00--V00\\\\field--X01--Y03\\\\image--L0000--S00--U00--V00--J20--E00--O00--X01--Y03--T0000--Z00--C00.ome.tif /jobname:Job 8\\r\\n/relpath:\\\\3.3.0_9757\\\\experiment--2015_02_19_15_48_03\\\\slide--S00\\\\chamber--U00--V00\\\\field--X00--Y03\\\\image-'\n",
        "b'< -L0000--S00--U00--V00--J20--E00--O00--X00--Y03--T0000--Z00--C00.ome.tif /jobname:Job 8\\r\\n/relpath:\\\\3.3.0_9757\\\\experiment--2015_02_19_15_48_03\\\\slide--S00\\\\chamber--U00--V00\\\\field--X00--Y04\\\\image--L0000--S00--U00--V00--J20--E00--O00--X00--Y04--T0000--Z00--C00.ome.tif /jobname:Job 8\\r\\n/relpath:\\\\3.3.0_9757\\\\experiment--2015_02_19_15_48_03\\\\slide--S00\\\\chamber--U00--V00\\\\field--X01--Y04\\\\image--L0000--S00--U00--V00--J20--E00--O00--X01--Y04--T0000--Z00--C00.ome.tif /jobname:Job 8\\r\\n/relpath:\\\\3.3.0_9757\\\\experiment--2015_02_19_15_48_03\\\\slide--S00\\\\chamber--U00--V00\\\\field--X02--Y04\\\\image--L0000--S00--U00--V00--J20--E00--O00--X02--Y04--T0000--Z00--C00.ome.tif /jobname:Job 8\\r\\n/relpath:\\\\3.3.0_9757\\\\experiment--2015_02_19_15_48_03\\\\slide--S00\\\\chamber--U00--V00\\\\field--X03--Y04\\\\image--L0000--S00--U00--V00--J20--E00--O00--X03--Y04--T0000--Z00--C00.ome.tif /jobname:Job 8\\r\\n/relpath:\\\\3.3.0_9757\\\\experiment--2015_02_19_15_48_03\\\\slide--S00\\\\chamber--U00--V00\\\\field--X04--Y04\\\\image--L0000--S00--U00--V00--J20--E00--O00--X04--Y04--T0000--Z00--C00.'\n",
        "b'< ome.tif /jobname:Job 8\\r\\n/relpath:\\\\3.3.0_9757\\\\experiment--2015_02_19_15_48_03\\\\slide--S00\\\\chamber--U00--V00\\\\field--X05--Y04\\\\image--L0000--S00--U00--V00--J20--E00--O00--X05--Y04--T0000--Z00--C00.ome.tif /jobname:Job 8\\r\\n/relpath:\\\\3.3.0_9757\\\\experiment--2015_02_19_15_48_03\\\\slide--S00\\\\chamber--U00--V00\\\\field--X06--Y04\\\\image--L0000--S00--U00--V00--J20--E00--O00--X06--Y04--T0000--Z00--C00.ome.tif /jobname:Job 8\\r\\n/relpath:\\\\3.3.0_9757\\\\experiment--2015_02_19_15_48_03\\\\slide--S00\\\\chamber--U00--V00\\\\field--X07--Y04\\\\image--L0000--S00--U00--V00--J20--E00--O00--X07--Y04--T0000--Z00--C00.ome.tif /jobname:Job 8\\r\\n/relpath:\\\\3.3.0_9757\\\\experiment--2015_02_19_15_48_03\\\\slide--S00\\\\chamber--U00--V00\\\\field--X08--Y04\\\\image--L0000--S00--U00--V00--J20--E00--O00--X08--Y04--T0000--Z00--C00.ome.tif /jobname:Job 8\\r\\n/relpath:\\\\3.3.0_9757\\\\experiment--2015_02_19_15_48_03\\\\slide--S00\\\\chamber--U00--V00\\\\field--X09--Y04\\\\image--L0000--S00--U00--V00--J20--E00--O00--X09--Y04--T0000--Z00--C00.ome.tif /jobname:Job 8\\r\\n/relpath:\\\\3.3.0_9757\\\\experiment--2015_02'\n",
        "b'< _19_15_48_03\\\\slide--S00\\\\chamber--U00--V00\\\\field--X10--Y04\\\\image--L0000--S00--U00--V00--J20--E00--O00--X10--Y04--T0000--Z00--C00.ome.tif /jobname:Job 8\\r\\n/relpath:\\\\3.3.0_9757\\\\experiment--2015_02_19_15_48_03\\\\slide--S00\\\\chamber--U00--V00\\\\field--X11--Y04\\\\image--L0000--S00--U00--V00--J20--E00--O00--X11--Y04--T0000--Z00--C00.ome.tif /jobname:Job 8\\r\\n/relpath:\\\\3.3.0_9757\\\\experiment--2015_02_19_15_48_03\\\\slide--S00\\\\chamber--U00--V00\\\\field--X12--Y04\\\\image--L0000--S00--U00--V00--J20--E00--O00--X12--Y04--T0000--Z00--C00.ome.tif /jobname:Job 8\\r\\n/relpath:\\\\3.3.0_9757\\\\experiment--2015_02_19_15_48_03\\\\slide--S00\\\\chamber--U00--V00\\\\field--X13--Y04\\\\image--L0000--S00--U00--V00--J20--E00--O00--X13--Y04--T0000--Z00--C00.ome.tif /jobname:Job 8\\r\\n/relpath:\\\\3.3.0_9757\\\\experiment--2015_02_19_15_48_03\\\\slide--S00\\\\chamber--U00--V00\\\\field--X14--Y04\\\\image--L0000--S00--U00--V00--J20--E00--O00--X14--Y04--T0000--Z00--C00.ome.tif /jobname:Job 8\\r\\n/relpath:\\\\3.3.0_9757\\\\experiment--2015_02_19_15_48_03\\\\slide--S00\\\\chamber--U00--V00\\\\field--X15--Y04\\\\image-'\n",
        "b'< -L0000--S00--U00--V00--J20--E00--O00--X15--Y04--T0000--Z00--C00.ome.tif /jobname:Job 8\\r\\n/relpath:\\\\3.3.0_9757\\\\experiment--2015_02_19_15_48_03\\\\slide--S00\\\\chamber--U00--V00\\\\field--X16--Y04\\\\image--L0000--S00--U00--V00--J20--E00--O00--X16--Y04--T0000--Z00--C00.ome.tif /jobname:Job 8\\r\\n/relpath:\\\\3.3.0_9757\\\\experiment--2015_02_19_15_48_03\\\\slide--S00\\\\chamber--U00--V00\\\\field--X17--Y04\\\\image--L0000--S00--U00--V00--J20--E00--O00--X17--Y04--T0000--Z00--C00.ome.tif /jobname:Job 8\\r\\n/relpath:\\\\3.3.0_9757\\\\experiment--2015_02_19_15_48_03\\\\slide--S00\\\\chamber--U00--V00\\\\field--X18--Y04\\\\image--L0000--S00--U00--V00--J20--E00--O00--X18--Y04--T0000--Z00--C00.ome.tif /jobname:Job 8\\r\\n/relpath:\\\\3.3.0_9757\\\\experiment--2015_02_19_15_48_03\\\\slide--S00\\\\chamber--U00--V00\\\\field--X19--Y04\\\\image--L0000--S00--U00--V00--J20--E00--O00--X19--Y04--T0000--Z00--C00.ome.tif /jobname:Job 8\\r\\n/relpath:\\\\3.3.0_9757\\\\experiment--2015_02_19_15_48_03\\\\slide--S00\\\\chamber--U00--V00\\\\field--X19--Y05\\\\image--L0000--S00--U00--V00--J20--E00--O00--X19--Y05--T0000--Z00--C00.'\n",
        "b'< ome.tif /jobname:Job 8\\r\\n/relpath:\\\\3.3.0_9757\\\\experiment--2015_02_19_15_48_03\\\\slide--S00\\\\chamber--U00--V00\\\\field--X18--Y05\\\\image--L0000--S00--U00--V00--J20--E00--O00--X18--Y05--T0000--Z00--C00.ome.tif /jobname:Job 8\\r\\n/relpath:\\\\3.3.0_9757\\\\experiment--2015_02_19_15_48_03\\\\slide--S00\\\\chamber--U00--V00\\\\field--X17--Y05\\\\image--L0000--S00--U00--V00--J20--E00--O00--X17--Y05--T0000--Z00--C00.ome.tif /jobname:Job 8\\r\\n/relpath:\\\\3.3.0_9757\\\\experiment--2015_02_19_15_48_03\\\\slide--S00\\\\chamber--U00--V00\\\\field--X16--Y05\\\\image--L0000--S00--U00--V00--J20--E00--O00--X16--Y05--T0000--Z00--C00.ome.tif /jobname:Job 8\\r\\n/relpath:\\\\3.3.0_9757\\\\experiment--2015_02_19_15_48_03\\\\slide--S00\\\\chamber--U00--V00\\\\field--X15--Y05\\\\image--L0000--S00--U00--V00--J20--E00--O00--X15--Y05--T0000--Z00--C00.ome.tif /jobname:Job 8\\r\\n/relpath:\\\\3.3.0_9757\\\\experiment--2015_02_19_15_48_03\\\\slide--S00\\\\chamber--U00--V00\\\\field--X14--Y05\\\\image--L0000--S00--U00--V00--J20--E00--O00--X14--Y05--T0000--Z00--C00.ome.tif /jobname:Job 8\\r\\n/relpath:\\\\3.3.0_9757\\\\experiment--2015_02'\n",
        "b'< _19_15_48_03\\\\slide--S00\\\\chamber--U00--V00\\\\field--X13--Y05\\\\image--L0000--S00--U00--V00--J20--E00--O00--X13--Y05--T0000--Z00--C00.ome.tif /jobname:Job 8\\r\\n/relpath:\\\\3.3.0_9757\\\\experiment--2015_02_19_15_48_03\\\\slide--S00\\\\chamber--U00--V00\\\\field--X12--Y05\\\\image--L0000--S00--U00--V00--J20--E00--O00--X12--Y05--T0000--Z00--C00.ome.tif /jobname:Job 8\\r\\n/relpath:\\\\3.3.0_9757\\\\experiment--2015_02_19_15_48_03\\\\slide--S00\\\\chamber--U00--V00\\\\field--X11--Y05\\\\image--L0000--S00--U00--V00--J20--E00--O00--X11--Y05--T0000--Z00--C00.ome.tif /jobname:Job 8\\r\\n/relpath:\\\\3.3.0_9757\\\\experiment--2015_02_19_15_48_03\\\\slide--S00\\\\chamber--U00--V00\\\\field--X10--Y05\\\\image--L0000--S00--U00--V00--J20--E00--O00--X10--Y05--T0000--Z00--C00.ome.tif /jobname:Job 8\\r\\n/relpath:\\\\3.3.0_9757\\\\experiment--2015_02_19_15_48_03\\\\slide--S00\\\\chamber--U00--V00\\\\field--X09--Y05\\\\image--L0000--S00--U00--V00--J20--E00--O00--X09--Y05--T0000--Z00--C00.ome.tif /jobname:Job 8\\r\\n/relpath:\\\\3.3.0_9757\\\\experiment--2015_02_19_15_48_03\\\\slide--S00\\\\chamber--U00--V00\\\\field--X08--Y05\\\\image-'\n",
        "b'< -L0000--S00--U00--V00--J20--E00--O00--X08--Y05--T0000--Z00--C00.ome.tif /jobname:Job 8\\r\\n/relpath:\\\\3.3.0_9757\\\\experiment--2015_02_19_15_48_03\\\\slide--S00\\\\chamber--U00--V00\\\\field--X07--Y05\\\\image--L0000--S00--U00--V00--J20--E00--O00--X07--Y05--T0000--Z00--C00.ome.tif /jobname:Job 8\\r\\n/relpath:\\\\3.3.0_9757\\\\experiment--2015_02_19_15_48_03\\\\slide--S00\\\\chamber--U00--V00\\\\field--X06--Y05\\\\image--L0000--S00--U00--V00--J20--E00--O00--X06--Y05--T0000--Z00--C00.ome.tif /jobname:Job 8\\r\\n/relpath:\\\\3.3.0_9757\\\\experiment--2015_02_19_15_48_03\\\\slide--S00\\\\chamber--U00--V00\\\\field--X05--Y05\\\\image--L0000--S00--U00--V00--J20--E00--O00--X05--Y05--T0000--Z00--C00.ome.tif /jobname:Job 8\\r\\n/relpath:\\\\3.3.0_9757\\\\experiment--2015_02_19_15_48_03\\\\slide--S00\\\\chamber--U00--V00\\\\field--X04--Y05\\\\image--L0000--S00--U00--V00--J20--E00--O00--X04--Y05--T0000--Z00--C00.ome.tif /jobname:Job 8\\r\\n/relpath:\\\\3.3.0_9757\\\\experiment--2015_02_19_15_48_03\\\\slide--S00\\\\chamber--U00--V00\\\\field--X03--Y05\\\\image--L0000--S00--U00--V00--J20--E00--O00--X03--Y05--T0000--Z00--C00.'\n",
        "b'< ome.tif /jobname:Job 8\\r\\n/relpath:\\\\3.3.0_9757\\\\experiment--2015_02_19_15_48_03\\\\slide--S00\\\\chamber--U00--V00\\\\field--X02--Y05\\\\image--L0000--S00--U00--V00--J20--E00--O00--X02--Y05--T0000--Z00--C00.ome.tif /jobname:Job 8\\r\\n/relpath:\\\\3.3.0_9757\\\\experiment--2015_02_19_15_48_03\\\\slide--S00\\\\chamber--U00--V00\\\\field--X01--Y05\\\\image--L0000--S00--U00--V00--J20--E00--O00--X01--Y05--T0000--Z00--C00.ome.tif /jobname:Job 8\\r\\n/relpath:\\\\3.3.0_9757\\\\experiment--2015_02_19_15_48_03\\\\slide--S00\\\\chamber--U00--V00\\\\field--X00--Y05\\\\image--L0000--S00--U00--V00--J20--E00--O00--X00--Y05--T0000--Z00--C00.ome.tif /jobname:Job 8\\r\\n/relpath:\\\\3.3.0_9757\\\\experiment--2015_02_19_15_48_03\\\\slide--S00\\\\chamber--U00--V00\\\\field--X00--Y06\\\\image--L0000--S00--U00--V00--J20--E00--O00--X00--Y06--T0000--Z00--C00.ome.tif /jobname:Job 8\\r\\n/relpath:\\\\3.3.0_9757\\\\experiment--2015_02_19_15_48_03\\\\slide--S00\\\\chamber--U00--V00\\\\field--X01--Y06\\\\image--L0000--S00--U00--V00--J20--E00--O00--X01--Y06--T0000--Z00--C00.ome.tif /jobname:Job 8\\r\\n/relpath:\\\\3.3.0_9757\\\\experiment--2015_02'\n",
        "b'< _19_15_48_03\\\\slide--S00\\\\chamber--U00--V00\\\\field--X02--Y06\\\\image--L0000--S00--U00--V00--J20--E00--O00--X02--Y06--T0000--Z00--C00.ome.tif /jobname:Job 8\\r\\n/relpath:\\\\3.3.0_9757\\\\experiment--2015_02_19_15_48_03\\\\slide--S00\\\\chamber--U00--V00\\\\field--X03--Y06\\\\image--L0000--S00--U00--V00--J20--E00--O00--X03--Y06--T0000--Z00--C00.ome.tif /jobname:Job 8\\r\\n/relpath:\\\\3.3.0_9757\\\\experiment--2015_02_19_15_48_03\\\\slide--S00\\\\chamber--U00--V00\\\\field--X04--Y06\\\\image--L0000--S00--U00--V00--J20--E00--O00--X04--Y06--T0000--Z00--C00.ome.tif /jobname:Job 8\\r\\n'\n"
       ]
      }
     ],
     "prompt_number": 34
    },
    {
     "cell_type": "markdown",
     "metadata": {},
     "source": [
      "scan continues and GUI is no longer locked"
     ]
    }
   ],
   "metadata": {}
  }
 ]
}
